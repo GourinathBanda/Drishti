{
 "cells": [
  {
   "cell_type": "code",
   "execution_count": 1,
   "id": "cb006cef",
   "metadata": {},
   "outputs": [],
   "source": [
    "import numpy as np\n",
    "test_x = np.load('x_test05.npy')\n",
    "test_y = np.load('y_test05.npy')\n"
   ]
  },
  {
   "cell_type": "markdown",
   "id": "d57e4b6b",
   "metadata": {},
   "source": []
  },
  {
   "cell_type": "code",
   "execution_count": 3,
   "id": "4de0c91b",
   "metadata": {},
   "outputs": [
    {
     "name": "stdout",
     "output_type": "stream",
     "text": [
      "Step 1: 124.99952830244304\n",
      "Step 2: 124.45605989397632\n",
      "Step 3: 123.23173012112613\n",
      "Step 4: 121.9404759842912\n",
      "Step 5: 119.7293799538441\n",
      "Step 6: 117.88995602888855\n",
      "Step 7: 117.16800561040515\n",
      "Step 8: 116.75966962011479\n",
      "Step 9: 116.89186476588377\n",
      "Step 10: 117.36163561965644\n",
      "Step 11: 118.0450612987581\n",
      "Step 12: 118.57841069661652\n",
      "Step 13: 118.73031868705536\n",
      "Step 14: 118.85838979345121\n",
      "Step 15: 118.72741847771533\n",
      "Step 16: 117.94581708746092\n",
      "Step 17: 117.7498274859986\n",
      "Step 18: 117.38967497805531\n",
      "Step 19: 117.49352704732958\n",
      "Step 20: 117.96880683710074\n",
      "Step 21: 118.01331595135073\n",
      "Step 22: 117.70385110556408\n",
      "Step 23: 117.44231019828416\n",
      "Step 24: 117.38687886365061\n",
      "Step 25: 117.50605455907937\n",
      "Step 26: 117.45980662630403\n",
      "Step 27: 118.03954075633874\n",
      "Step 28: 117.80798504293993\n",
      "Step 29: 118.63925045564524\n",
      "Step 30: 119.53554544974581\n",
      "Step 31: 120.63193985500396\n",
      "Step 32: 121.4818878040927\n",
      "Step 33: 122.94779794696927\n",
      "Step 34: 124.13786540961814\n",
      "Step 35: 122.88106452746493\n",
      "Step 36: 122.6658276063593\n",
      "Step 37: 123.26903665419772\n",
      "Step 38: 123.0068044510129\n",
      "Step 39: 122.75350543656312\n",
      "Step 40: 123.4447525000404\n"
     ]
    }
   ],
   "source": [
    "dt = 0.1\n",
    "measurements = np.array(test_x)\n",
    "\n",
    "measurement_noise = 0.05# Measurement noise covariance\n",
    "process_noise = 0.05  # Process noise covariance\n",
    "\n",
    "\n",
    "  \n",
    "from filterpy.kalman import KalmanFilter\n",
    "\n",
    "estimated_positions_x = []\n",
    "\n",
    "# Create a Kalman filter instance\n",
    "kf = KalmanFilter(dim_x=2, dim_z=1)\n",
    "\n",
    "# Define the state transition matrix\n",
    "kf.F = np.array([[1, dt],\n",
    "                 [0, 1]])\n",
    "\n",
    "# Define the measurement matrix\n",
    "kf.H = np.array([[1, 0]])\n",
    "\n",
    "# Define the measurement noise covariance\n",
    "kf.R = np.array([[measurement_noise]])\n",
    "\n",
    "kf.Q = np.array([[0.25 * dt**4, 0.5 * dt**3],\n",
    "                 [0.5 * dt**3, dt**2]]) * process_noise\n",
    "\n",
    "# Initialize the state estimate\n",
    "initial_position = measurements[0]\n",
    "initial_velocity = (measurements[1] - measurements[0])*0.1\n",
    "kf.x = np.array([[initial_position],\n",
    "                 [initial_velocity]])\n",
    "\n",
    "# Initialize the covariance estimate\n",
    "kf.P = np.eye(2)\n",
    "\n",
    "# Perform filtering\n",
    "estimated_positions = []\n",
    "for measurement in measurements:\n",
    "    # Predict step\n",
    "    kf.predict()\n",
    "\n",
    "    # Update step\n",
    "    kf.update(np.array([[measurement]]))\n",
    "\n",
    "    # Get the estimated position\n",
    "    estimated_position = kf.x[0, 0]\n",
    "    estimated_positions_x.append(estimated_position)\n",
    "\n",
    "# Print the estimated positions\n",
    "for i, position in enumerate(estimated_positions_x):\n",
    "    print(f\"Step {i+1}: {position}\")\n"
   ]
  },
  {
   "cell_type": "code",
   "execution_count": 5,
   "id": "b1b9eebe",
   "metadata": {},
   "outputs": [
    {
     "name": "stdout",
     "output_type": "stream",
     "text": [
      "Step 1: 27.003773580455682\n",
      "Step 2: 31.351520848189523\n",
      "Step 3: 31.14640935143744\n",
      "Step 4: 32.77489345189914\n",
      "Step 5: 32.41474297061969\n",
      "Step 6: 35.618097294975904\n",
      "Step 7: 38.95274518801336\n",
      "Step 8: 43.82802860177618\n",
      "Step 9: 49.979308472837815\n",
      "Step 10: 54.9278210847208\n",
      "Step 11: 59.97006091661539\n",
      "Step 12: 66.50191737673313\n",
      "Step 13: 74.06983449535072\n",
      "Step 14: 79.32208686546815\n",
      "Step 15: 86.70240273985804\n",
      "Step 16: 90.89604488064424\n",
      "Step 17: 95.68109225687317\n",
      "Step 18: 101.75341782576922\n",
      "Step 19: 107.25835464910053\n",
      "Step 20: 112.49779609011016\n",
      "Step 21: 117.52142566967304\n",
      "Step 22: 123.78028085744188\n",
      "Step 23: 129.69696309305405\n",
      "Step 24: 133.9992812293747\n",
      "Step 25: 138.06324139659566\n",
      "Step 26: 140.5079458786543\n",
      "Step 27: 148.6292822798307\n",
      "Step 28: 153.85486582908084\n",
      "Step 29: 160.82920711506756\n",
      "Step 30: 167.0195666138037\n",
      "Step 31: 172.36939394494297\n",
      "Step 32: 177.81606349872882\n",
      "Step 33: 186.28406237580768\n",
      "Step 34: 194.9856377105103\n",
      "Step 35: 201.56127228659213\n",
      "Step 36: 207.15087870520165\n",
      "Step 37: 213.46289003303318\n",
      "Step 38: 218.82098118016998\n",
      "Step 39: 222.63197754018685\n",
      "Step 40: 225.15474919051383\n"
     ]
    }
   ],
   "source": [
    "estimated_positions_y = []\n",
    "measurements = test_y\n",
    "# Create a Kalman filter instance\n",
    "kf = KalmanFilter(dim_x=2, dim_z=1)\n",
    "\n",
    "# Define the state transition matrix\n",
    "kf.F = np.array([[1, dt],\n",
    "                 [0, 1]])\n",
    "\n",
    "# Define the measurement matrix\n",
    "kf.H = np.array([[1, 0]])\n",
    "\n",
    "# Define the measurement noise covariance\n",
    "kf.R = np.array([[measurement_noise]])\n",
    "\n",
    "kf.Q = np.array([[0.25 * dt**4, 0.5 * dt**3],\n",
    "                 [0.5 * dt**3, dt**2]]) * process_noise\n",
    "\n",
    "# Initialize the state estimate\n",
    "initial_position = measurements[0]\n",
    "initial_velocity = (measurements[1] - measurements[0])*0.1\n",
    "kf.x = np.array([[initial_position],\n",
    "                 [initial_velocity]])\n",
    "\n",
    "# Initialize the covariance estimate\n",
    "kf.P = np.eye(2)\n",
    "\n",
    "# Perform filtering\n",
    "estimated_positions = []\n",
    "for measurement in measurements:\n",
    "    # Predict step\n",
    "    kf.predict()\n",
    "\n",
    "    # Update step\n",
    "    kf.update(np.array([[measurement]]))\n",
    "\n",
    "    # Get the estimated position\n",
    "    estimated_position = kf.x[0, 0]\n",
    "    estimated_positions_y.append(estimated_position)\n",
    "\n",
    "# Print the estimated positions\n",
    "for i, position in enumerate(estimated_positions_y):\n",
    "    print(f\"Step {i+1}: {position}\")"
   ]
  },
  {
   "cell_type": "code",
   "execution_count": 6,
   "id": "e28a9514",
   "metadata": {},
   "outputs": [],
   "source": [
    "kalman_x = np.array(estimated_positions_x)\n",
    "kalman_y = np.array(estimated_positions_y)"
   ]
  },
  {
   "cell_type": "code",
   "execution_count": 7,
   "id": "ef7901e7",
   "metadata": {},
   "outputs": [
    {
     "data": {
      "image/png": "[encoded data removed]",
      "text/plain": [
       "<Figure size 432x288 with 1 Axes>"
      ]
     },
     "metadata": {
      "needs_background": "light"
     },
     "output_type": "display_data"
    }
   ],
   "source": [
    "import matplotlib.pyplot as plt\n",
    "\n",
    "x_values = kalman_x\n",
    "y_values = kalman_y\n",
    "\n",
    "# Create a scatter plot of the coordinates\n",
    "plt.scatter(x_values, y_values, c=range(len(x_values)), cmap='Reds', edgecolors='black')\n",
    "\n",
    "# Set the x and y axis labels\n",
    "plt.xlabel('X')\n",
    "plt.ylabel('Y')\n",
    "\n",
    "# Set the title of the plot\n",
    "plt.title('Coordinate System')\n",
    "\n",
    "plt.plot([122, 122], [25, 225], color='green', label='Ground Truth')\n",
    "\n",
    "\n",
    "plt.legend()\n",
    "\n",
    "plt.xlim(0, 300)\n",
    "plt.ylim(0, 250)\n",
    "\n",
    "\n",
    "\n",
    "# Display the plot\n",
    "plt.show()"
   ]
  },
  {
   "cell_type": "code",
   "execution_count": 8,
   "id": "25d6b0f8",
   "metadata": {},
   "outputs": [
    {
     "data": {
      "image/png": "[encoded data removed]",
      "text/plain": [
       "<Figure size 432x288 with 1 Axes>"
      ]
     },
     "metadata": {
      "needs_background": "light"
     },
     "output_type": "display_data"
    }
   ],
   "source": [
    "import matplotlib.pyplot as plt\n",
    "\n",
    "x_values = test_x\n",
    "y_values = test_y\n",
    "\n",
    "# Create a scatter plot of the coordinates\n",
    "plt.scatter(x_values, y_values, c=range(len(x_values)), cmap='Reds', edgecolors='black')\n",
    "\n",
    "# Set the x and y axis labels\n",
    "plt.xlabel('X')\n",
    "plt.ylabel('Y')\n",
    "\n",
    "# Set the title of the plot\n",
    "plt.title('Tracking without Kalman Filter (velocity = 0.5 m/s)')\n",
    "\n",
    "plt.xlim(0, 200)\n",
    "plt.ylim(0, 250)\n",
    "\n",
    "plt.plot([122, 122], [25, 225], color='green', label='Ground Truth')\n",
    "\n",
    "# Display the plot\n",
    "plt.show()"
   ]
  },
  {
   "cell_type": "code",
   "execution_count": null,
   "id": "4b8d2344",
   "metadata": {},
   "outputs": [],
   "source": []
  }
 ],
 "metadata": {
  "kernelspec": {
   "display_name": "Python 3",
   "language": "python",
   "name": "python3"
  },
  "language_info": {
   "codemirror_mode": {
    "name": "ipython",
    "version": 3
   },
   "file_extension": ".py",
   "mimetype": "text/x-python",
   "name": "python",
   "nbconvert_exporter": "python",
   "pygments_lexer": "ipython3",
   "version": "3.6.13"
  }
 },
 "nbformat": 4,
 "nbformat_minor": 5
}
