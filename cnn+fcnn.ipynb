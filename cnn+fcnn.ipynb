{
 "cells": [
  {
   "cell_type": "code",
   "execution_count": 12,
   "id": "c1e11335",
   "metadata": {},
   "outputs": [],
   "source": [
    "#load datasets\n",
    "import tensorflow as tf\n",
    "import pickle5\n",
    "from sklearn.datasets import load_boston\n",
    "import sklearn.linear_model as sk\n",
    "import numpy as np\n",
    "import pandas as pd\n",
    "from sklearn.decomposition import PCA\n",
    "from sklearn.preprocessing import StandardScaler\n",
    "from tensorflow import keras\n",
    "from tensorflow.keras import layers"
   ]
  },
  {
   "cell_type": "code",
   "execution_count": 13,
   "id": "20cc021e",
   "metadata": {},
   "outputs": [],
   "source": [
    "path = \"/home/alexander/Downloads/\" #change path "
   ]
  },
  {
   "cell_type": "code",
   "execution_count": 15,
   "id": "f7313ede",
   "metadata": {},
   "outputs": [
    {
     "data": {
      "text/html": [
       "<div>\n",
       "<style scoped>\n",
       "    .dataframe tbody tr th:only-of-type {\n",
       "        vertical-align: middle;\n",
       "    }\n",
       "\n",
       "    .dataframe tbody tr th {\n",
       "        vertical-align: top;\n",
       "    }\n",
       "\n",
       "    .dataframe thead th {\n",
       "        text-align: right;\n",
       "    }\n",
       "</style>\n",
       "<table border=\"1\" class=\"dataframe\">\n",
       "  <thead>\n",
       "    <tr style=\"text-align: right;\">\n",
       "      <th></th>\n",
       "      <th>real_rng</th>\n",
       "      <th>rng</th>\n",
       "      <th>rssi</th>\n",
       "      <th>fp_idx</th>\n",
       "      <th>fp_power</th>\n",
       "      <th>fp_amp1</th>\n",
       "      <th>fp_amp2</th>\n",
       "      <th>fp_amp3</th>\n",
       "      <th>std_noise</th>\n",
       "      <th>pacc_cnt</th>\n",
       "      <th>cir_real</th>\n",
       "      <th>cir_imag</th>\n",
       "      <th>condition</th>\n",
       "      <th>location_from</th>\n",
       "      <th>location_to</th>\n",
       "      <th>msid</th>\n",
       "    </tr>\n",
       "  </thead>\n",
       "  <tbody>\n",
       "    <tr>\n",
       "      <th>0</th>\n",
       "      <td>6.269</td>\n",
       "      <td>8.874</td>\n",
       "      <td>-80.101</td>\n",
       "      <td>749</td>\n",
       "      <td>-93.925</td>\n",
       "      <td>287</td>\n",
       "      <td>1596</td>\n",
       "      <td>1881</td>\n",
       "      <td>52</td>\n",
       "      <td>101</td>\n",
       "      <td>[-25, -35, 1, 64, -11, -146, 34, -49, -174, -1...</td>\n",
       "      <td>[15, 54, 64, -15, 34, 72, 41, -3, -33, -70, -1...</td>\n",
       "      <td>nlos</td>\n",
       "      <td>hw</td>\n",
       "      <td>hw</td>\n",
       "      <td>0</td>\n",
       "    </tr>\n",
       "    <tr>\n",
       "      <th>1</th>\n",
       "      <td>6.269</td>\n",
       "      <td>8.045</td>\n",
       "      <td>-80.136</td>\n",
       "      <td>743</td>\n",
       "      <td>-93.968</td>\n",
       "      <td>1404</td>\n",
       "      <td>1657</td>\n",
       "      <td>1179</td>\n",
       "      <td>36</td>\n",
       "      <td>101</td>\n",
       "      <td>[53, -10, 114, -5, -11, 152, 155, 81, 71, -15,...</td>\n",
       "      <td>[-46, 67, -42, -24, 18, -58, -15, 64, 5, -99, ...</td>\n",
       "      <td>nlos</td>\n",
       "      <td>hw</td>\n",
       "      <td>hw</td>\n",
       "      <td>0</td>\n",
       "    </tr>\n",
       "    <tr>\n",
       "      <th>2</th>\n",
       "      <td>6.269</td>\n",
       "      <td>8.006</td>\n",
       "      <td>-80.202</td>\n",
       "      <td>747</td>\n",
       "      <td>-94.004</td>\n",
       "      <td>1467</td>\n",
       "      <td>1683</td>\n",
       "      <td>1035</td>\n",
       "      <td>40</td>\n",
       "      <td>101</td>\n",
       "      <td>[44, -31, -11, -111, -16, 56, -1, -55, -30, 24...</td>\n",
       "      <td>[-43, -76, -41, -40, -96, 28, -19, 24, 85, 15,...</td>\n",
       "      <td>nlos</td>\n",
       "      <td>hw</td>\n",
       "      <td>hw</td>\n",
       "      <td>0</td>\n",
       "    </tr>\n",
       "    <tr>\n",
       "      <th>3</th>\n",
       "      <td>6.269</td>\n",
       "      <td>7.945</td>\n",
       "      <td>-80.082</td>\n",
       "      <td>751</td>\n",
       "      <td>-93.533</td>\n",
       "      <td>1068</td>\n",
       "      <td>1721</td>\n",
       "      <td>1627</td>\n",
       "      <td>40</td>\n",
       "      <td>101</td>\n",
       "      <td>[-113, -27, 37, -32, 4, -30, 23, 12, 45, -38, ...</td>\n",
       "      <td>[70, 114, -56, -48, 87, 4, 44, 113, 43, -6, 81...</td>\n",
       "      <td>nlos</td>\n",
       "      <td>hw</td>\n",
       "      <td>hw</td>\n",
       "      <td>0</td>\n",
       "    </tr>\n",
       "    <tr>\n",
       "      <th>4</th>\n",
       "      <td>6.269</td>\n",
       "      <td>8.047</td>\n",
       "      <td>-80.166</td>\n",
       "      <td>749</td>\n",
       "      <td>-93.624</td>\n",
       "      <td>940</td>\n",
       "      <td>1595</td>\n",
       "      <td>1784</td>\n",
       "      <td>40</td>\n",
       "      <td>101</td>\n",
       "      <td>[99, -25, -34, -18, 92, -7, -14, -65, -12, 112...</td>\n",
       "      <td>[-134, -1, 66, 23, 67, 97, -38, 11, 19, -37, 7...</td>\n",
       "      <td>nlos</td>\n",
       "      <td>hw</td>\n",
       "      <td>hw</td>\n",
       "      <td>0</td>\n",
       "    </tr>\n",
       "    <tr>\n",
       "      <th>...</th>\n",
       "      <td>...</td>\n",
       "      <td>...</td>\n",
       "      <td>...</td>\n",
       "      <td>...</td>\n",
       "      <td>...</td>\n",
       "      <td>...</td>\n",
       "      <td>...</td>\n",
       "      <td>...</td>\n",
       "      <td>...</td>\n",
       "      <td>...</td>\n",
       "      <td>...</td>\n",
       "      <td>...</td>\n",
       "      <td>...</td>\n",
       "      <td>...</td>\n",
       "      <td>...</td>\n",
       "      <td>...</td>\n",
       "    </tr>\n",
       "    <tr>\n",
       "      <th>36696</th>\n",
       "      <td>3.191</td>\n",
       "      <td>3.076</td>\n",
       "      <td>-79.575</td>\n",
       "      <td>744</td>\n",
       "      <td>-81.128</td>\n",
       "      <td>6251</td>\n",
       "      <td>6550</td>\n",
       "      <td>5954</td>\n",
       "      <td>40</td>\n",
       "      <td>101</td>\n",
       "      <td>[52, -104, -95, -69, -34, 9, 66, -43, -193, -9...</td>\n",
       "      <td>[114, 47, 1, -34, -108, -90, 126, 94, 55, 169,...</td>\n",
       "      <td>los</td>\n",
       "      <td>til</td>\n",
       "      <td>til</td>\n",
       "      <td>748</td>\n",
       "    </tr>\n",
       "    <tr>\n",
       "      <th>36697</th>\n",
       "      <td>3.191</td>\n",
       "      <td>3.053</td>\n",
       "      <td>-79.866</td>\n",
       "      <td>749</td>\n",
       "      <td>-81.564</td>\n",
       "      <td>5480</td>\n",
       "      <td>6264</td>\n",
       "      <td>6079</td>\n",
       "      <td>44</td>\n",
       "      <td>101</td>\n",
       "      <td>[42, -7, -43, 1, 70, 47, 11, 50, -33, -91, 20,...</td>\n",
       "      <td>[53, 142, 28, -76, -128, -42, 132, 50, 64, 104...</td>\n",
       "      <td>los</td>\n",
       "      <td>til</td>\n",
       "      <td>til</td>\n",
       "      <td>748</td>\n",
       "    </tr>\n",
       "    <tr>\n",
       "      <th>36698</th>\n",
       "      <td>3.191</td>\n",
       "      <td>3.056</td>\n",
       "      <td>-79.689</td>\n",
       "      <td>748</td>\n",
       "      <td>-81.709</td>\n",
       "      <td>6355</td>\n",
       "      <td>6225</td>\n",
       "      <td>4857</td>\n",
       "      <td>44</td>\n",
       "      <td>101</td>\n",
       "      <td>[-74, -43, 38, 62, -3, -90, -49, -25, 39, 28, ...</td>\n",
       "      <td>[-103, -214, 34, 79, 123, 34, -101, 14, -106, ...</td>\n",
       "      <td>los</td>\n",
       "      <td>til</td>\n",
       "      <td>til</td>\n",
       "      <td>748</td>\n",
       "    </tr>\n",
       "    <tr>\n",
       "      <th>36699</th>\n",
       "      <td>3.191</td>\n",
       "      <td>3.067</td>\n",
       "      <td>-79.859</td>\n",
       "      <td>745</td>\n",
       "      <td>-82.538</td>\n",
       "      <td>6014</td>\n",
       "      <td>6024</td>\n",
       "      <td>3525</td>\n",
       "      <td>48</td>\n",
       "      <td>101</td>\n",
       "      <td>[55, 120, 63, -69, -52, -74, -107, 60, 147, -1...</td>\n",
       "      <td>[-80, -58, 32, 128, 55, -5, -2, -23, 49, 131, ...</td>\n",
       "      <td>los</td>\n",
       "      <td>til</td>\n",
       "      <td>til</td>\n",
       "      <td>748</td>\n",
       "    </tr>\n",
       "    <tr>\n",
       "      <th>36700</th>\n",
       "      <td>3.191</td>\n",
       "      <td>3.081</td>\n",
       "      <td>-79.752</td>\n",
       "      <td>751</td>\n",
       "      <td>-82.509</td>\n",
       "      <td>6182</td>\n",
       "      <td>6083</td>\n",
       "      <td>3197</td>\n",
       "      <td>44</td>\n",
       "      <td>101</td>\n",
       "      <td>[238, 206, 82, -4, -57, -82, 49, 104, 73, -23,...</td>\n",
       "      <td>[-14, 43, 56, 71, 124, 30, -61, -72, 26, 135, ...</td>\n",
       "      <td>los</td>\n",
       "      <td>til</td>\n",
       "      <td>til</td>\n",
       "      <td>748</td>\n",
       "    </tr>\n",
       "  </tbody>\n",
       "</table>\n",
       "<p>36701 rows × 16 columns</p>\n",
       "</div>"
      ],
      "text/plain": [
       "       real_rng    rng    rssi  fp_idx  fp_power  fp_amp1  fp_amp2  fp_amp3  \\\n",
       "0         6.269  8.874 -80.101     749   -93.925      287     1596     1881   \n",
       "1         6.269  8.045 -80.136     743   -93.968     1404     1657     1179   \n",
       "2         6.269  8.006 -80.202     747   -94.004     1467     1683     1035   \n",
       "3         6.269  7.945 -80.082     751   -93.533     1068     1721     1627   \n",
       "4         6.269  8.047 -80.166     749   -93.624      940     1595     1784   \n",
       "...         ...    ...     ...     ...       ...      ...      ...      ...   \n",
       "36696     3.191  3.076 -79.575     744   -81.128     6251     6550     5954   \n",
       "36697     3.191  3.053 -79.866     749   -81.564     5480     6264     6079   \n",
       "36698     3.191  3.056 -79.689     748   -81.709     6355     6225     4857   \n",
       "36699     3.191  3.067 -79.859     745   -82.538     6014     6024     3525   \n",
       "36700     3.191  3.081 -79.752     751   -82.509     6182     6083     3197   \n",
       "\n",
       "       std_noise  pacc_cnt                                           cir_real  \\\n",
       "0             52       101  [-25, -35, 1, 64, -11, -146, 34, -49, -174, -1...   \n",
       "1             36       101  [53, -10, 114, -5, -11, 152, 155, 81, 71, -15,...   \n",
       "2             40       101  [44, -31, -11, -111, -16, 56, -1, -55, -30, 24...   \n",
       "3             40       101  [-113, -27, 37, -32, 4, -30, 23, 12, 45, -38, ...   \n",
       "4             40       101  [99, -25, -34, -18, 92, -7, -14, -65, -12, 112...   \n",
       "...          ...       ...                                                ...   \n",
       "36696         40       101  [52, -104, -95, -69, -34, 9, 66, -43, -193, -9...   \n",
       "36697         44       101  [42, -7, -43, 1, 70, 47, 11, 50, -33, -91, 20,...   \n",
       "36698         44       101  [-74, -43, 38, 62, -3, -90, -49, -25, 39, 28, ...   \n",
       "36699         48       101  [55, 120, 63, -69, -52, -74, -107, 60, 147, -1...   \n",
       "36700         44       101  [238, 206, 82, -4, -57, -82, 49, 104, 73, -23,...   \n",
       "\n",
       "                                                cir_imag condition  \\\n",
       "0      [15, 54, 64, -15, 34, 72, 41, -3, -33, -70, -1...      nlos   \n",
       "1      [-46, 67, -42, -24, 18, -58, -15, 64, 5, -99, ...      nlos   \n",
       "2      [-43, -76, -41, -40, -96, 28, -19, 24, 85, 15,...      nlos   \n",
       "3      [70, 114, -56, -48, 87, 4, 44, 113, 43, -6, 81...      nlos   \n",
       "4      [-134, -1, 66, 23, 67, 97, -38, 11, 19, -37, 7...      nlos   \n",
       "...                                                  ...       ...   \n",
       "36696  [114, 47, 1, -34, -108, -90, 126, 94, 55, 169,...       los   \n",
       "36697  [53, 142, 28, -76, -128, -42, 132, 50, 64, 104...       los   \n",
       "36698  [-103, -214, 34, 79, 123, 34, -101, 14, -106, ...       los   \n",
       "36699  [-80, -58, 32, 128, 55, -5, -2, -23, 49, 131, ...       los   \n",
       "36700  [-14, 43, 56, 71, 124, 30, -61, -72, 26, 135, ...       los   \n",
       "\n",
       "      location_from location_to  msid  \n",
       "0                hw          hw     0  \n",
       "1                hw          hw     0  \n",
       "2                hw          hw     0  \n",
       "3                hw          hw     0  \n",
       "4                hw          hw     0  \n",
       "...             ...         ...   ...  \n",
       "36696           til         til   748  \n",
       "36697           til         til   748  \n",
       "36698           til         til   748  \n",
       "36699           til         til   748  \n",
       "36700           til         til   748  \n",
       "\n",
       "[36701 rows x 16 columns]"
      ]
     },
     "execution_count": 15,
     "metadata": {},
     "output_type": "execute_result"
    }
   ],
   "source": [
    "myfile = path+\"dataset.pickle\" #load dataset\n",
    "f = open(myfile, 'rb')\n",
    "a = pickle5.load(f)\n",
    "a"
   ]
  },
  {
   "cell_type": "code",
   "execution_count": 16,
   "id": "bcf15c8a",
   "metadata": {},
   "outputs": [],
   "source": [
    "target = a.pop('condition')\n",
    "cir_real = a.pop('cir_real')\n",
    "cir_imag = a.pop('cir_imag') # load appropriate columns"
   ]
  },
  {
   "cell_type": "code",
   "execution_count": 17,
   "id": "525aaf8c",
   "metadata": {},
   "outputs": [],
   "source": [
    "X = np.empty(shape=[36701, 1015]) #create an empty array\n"
   ]
  },
  {
   "cell_type": "code",
   "execution_count": 18,
   "id": "94c8520b",
   "metadata": {},
   "outputs": [
    {
     "data": {
      "text/plain": [
       "array([[ 29.15475947,  64.35060217,  64.00781202, ...,  98.48857802,\n",
       "        106.52699188, 106.25441167],\n",
       "       [ 70.17834424,  67.74215822, 121.49074039, ...,  40.70626487,\n",
       "         69.28924881,  65.2533524 ],\n",
       "       [ 61.52235366,  82.07923002,  42.44997055, ...,  93.94147114,\n",
       "        115.88356225,  60.16643583],\n",
       "       ...,\n",
       "       [126.82665335, 218.27734651,  50.99019514, ..., 118.69709348,\n",
       "        191.36614121, 158.80806025],\n",
       "       [ 97.08243919, 133.28165665,  70.66116331, ..., 124.5351356 ,\n",
       "         81.61494961, 177.5894141 ],\n",
       "       [238.41140912, 210.44001521,  99.2975327 , ...,  76.85050423,\n",
       "         63.0634601 ,  59.07622195]])"
      ]
     },
     "execution_count": 18,
     "metadata": {},
     "output_type": "execute_result"
    }
   ],
   "source": [
    "for i in range(0,36701):\n",
    "    cir_r = np.power(cir_real[i],2)\n",
    "    cir_i = np.power(cir_imag[i],2)\n",
    "    final = np.sqrt(cir_r + cir_i)\n",
    "    final = final.reshape(-1,1015)\n",
    "    X[i] =  final\n",
    "X  #store cir magnitude for each sample"
   ]
  },
  {
   "cell_type": "code",
   "execution_count": 19,
   "id": "f45f5773",
   "metadata": {},
   "outputs": [],
   "source": [
    "feat_crop = np.empty(shape=[36701, 300])\n",
    "normalized_data = np.empty(shape=[36701, 300])\n",
    "for i in range(0,36701):\n",
    "    feat_crop[i] = X[i][650:950] \n",
    "    mean = np.mean(feat_crop[i])\n",
    "    std = np.std(feat_crop[i])\n",
    "    normalized_data[i] = (feat_crop[i]-mean)/std\n",
    "    \n",
    "    \n",
    "#keep 300 cir samples and normalize dataset"
   ]
  },
  {
   "cell_type": "code",
   "execution_count": 20,
   "id": "c980f167",
   "metadata": {},
   "outputs": [],
   "source": [
    "#make the labels for training 1=nlos , 0=los\n",
    "target_bin = [0]*36701\n",
    "for i in range(0,36701):\n",
    "    if target[i] == 'nlos':\n",
    "        target_bin[i] = 1\n",
    "    else:\n",
    "        target_bin[i] = 0              "
   ]
  },
  {
   "cell_type": "code",
   "execution_count": 21,
   "id": "aeae588e",
   "metadata": {},
   "outputs": [
    {
     "name": "stdout",
     "output_type": "stream",
     "text": [
      "[ True  True  True ...  True False  True]\n"
     ]
    }
   ],
   "source": [
    "#11\n",
    "np.random.seed(11)\n",
    "rnd = np.random.rand(len(normalized_data)) < 0.6\n",
    "print(rnd)"
   ]
  },
  {
   "cell_type": "code",
   "execution_count": 22,
   "id": "43e26afc",
   "metadata": {},
   "outputs": [
    {
     "data": {
      "text/plain": [
       "(22020, 300)"
      ]
     },
     "execution_count": 22,
     "metadata": {},
     "output_type": "execute_result"
    }
   ],
   "source": [
    "#split dataset 60/40\n",
    "train_x = normalized_data[rnd]\n",
    "tt = np.array(target_bin)\n",
    "train_y = tt[rnd]\n",
    "dev_x = normalized_data[~rnd]\n",
    "dev_y = tt[~rnd]\n",
    "train_x.shape"
   ]
  },
  {
   "cell_type": "code",
   "execution_count": 23,
   "id": "a35b594d",
   "metadata": {},
   "outputs": [],
   "source": [
    "xrn = np.random.rand(len(dev_x)) < 0.5"
   ]
  },
  {
   "cell_type": "code",
   "execution_count": 24,
   "id": "9ce99fd0",
   "metadata": {},
   "outputs": [],
   "source": [
    "#split the 40% to 20% and 20% (60% training - 20% validation - 20% testing)\n",
    "val_x = dev_x[xrn]\n",
    "test_x = dev_x[~xrn]\n",
    "val_y = dev_y[xrn]\n",
    "test_y = dev_y[~xrn]"
   ]
  },
  {
   "cell_type": "code",
   "execution_count": 26,
   "id": "6909a4da",
   "metadata": {},
   "outputs": [],
   "source": [
    "import tensorflow as tf\n",
    "\n",
    "# Define the F1 score metric\n",
    "class F1Score(tf.keras.metrics.Metric):\n",
    "    def __init__(self, name='f1_score', **kwargs):\n",
    "        super(F1Score, self).__init__(name=name, **kwargs)\n",
    "        self.precision = tf.keras.metrics.Precision()\n",
    "        self.recall = tf.keras.metrics.Recall()\n",
    "\n",
    "    def update_state(self, y_true, y_pred, sample_weight=None):\n",
    "        self.precision.update_state(y_true, y_pred, sample_weight)\n",
    "        self.recall.update_state(y_true, y_pred, sample_weight)\n",
    "\n",
    "    def result(self):\n",
    "        precision_result = self.precision.result()\n",
    "        recall_result = self.recall.result()\n",
    "        return 2 * ((precision_result * recall_result) / (precision_result + recall_result + tf.keras.backend.epsilon()))\n",
    "\n",
    "    def reset_state(self):\n",
    "        self.precision.reset_state()\n",
    "        self.recall.reset_state()\n",
    "\n",
    "# Create your model\n",
    "modele = tf.keras.Sequential([\n",
    "  tf.keras.layers.Reshape((300, 1), input_shape=(300,)),\n",
    "  tf.keras.layers.Conv1D(32, kernel_size=3, activation='relu'),\n",
    "  tf.keras.layers.MaxPooling1D(pool_size=2),\n",
    "  tf.keras.layers.Flatten(),\n",
    "  tf.keras.layers.Dense(64, activation='relu'),\n",
    "  tf.keras.layers.Dropout(0.5),\n",
    "  tf.keras.layers.Dense(1, activation='sigmoid')\n",
    "])\n",
    "optimizer = tf.keras.optimizers.Adam(learning_rate=0.0001)\n",
    "# Compile your model with the F1 score metric\n",
    "modele.compile(optimizer=optimizer,\n",
    "               loss='binary_crossentropy',\n",
    "               metrics=['accuracy', tf.keras.metrics.Precision(), tf.keras.metrics.Recall(), F1Score()])\n"
   ]
  },
  {
   "cell_type": "code",
   "execution_count": 15,
   "id": "60d41641",
   "metadata": {},
   "outputs": [
    {
     "name": "stdout",
     "output_type": "stream",
     "text": [
      "Epoch 1/40\n",
      "689/689 [==============================] - 9s 8ms/step - loss: 0.5129 - accuracy: 0.7553 - precision: 0.7501 - recall: 0.4094 - f1_score: 0.5297 - val_loss: 0.4464 - val_accuracy: 0.7994 - val_precision: 0.7457 - val_recall: 0.6226 - val_f1_score: 0.6786\n",
      "Epoch 2/40\n",
      "689/689 [==============================] - 4s 7ms/step - loss: 0.4365 - accuracy: 0.7941 - precision: 0.7693 - recall: 0.5547 - f1_score: 0.6446 - val_loss: 0.4028 - val_accuracy: 0.8112 - val_precision: 0.8498 - val_recall: 0.5402 - val_f1_score: 0.6605\n",
      "Epoch 3/40\n",
      "689/689 [==============================] - 4s 6ms/step - loss: 0.4041 - accuracy: 0.8122 - precision: 0.7902 - recall: 0.6018 - f1_score: 0.6833 - val_loss: 0.3735 - val_accuracy: 0.8283 - val_precision: 0.8189 - val_recall: 0.6356 - val_f1_score: 0.7157\n",
      "Epoch 4/40\n",
      "689/689 [==============================] - 4s 6ms/step - loss: 0.3815 - accuracy: 0.8255 - precision: 0.8045 - recall: 0.6359 - f1_score: 0.7104 - val_loss: 0.3547 - val_accuracy: 0.8388 - val_precision: 0.8255 - val_recall: 0.6669 - val_f1_score: 0.7378\n",
      "Epoch 5/40\n",
      "689/689 [==============================] - 4s 6ms/step - loss: 0.3667 - accuracy: 0.8343 - precision: 0.8084 - recall: 0.6655 - f1_score: 0.7300 - val_loss: 0.3524 - val_accuracy: 0.8369 - val_precision: 0.8892 - val_recall: 0.5945 - val_f1_score: 0.7126\n",
      "Epoch 6/40\n",
      "689/689 [==============================] - 5s 7ms/step - loss: 0.3515 - accuracy: 0.8408 - precision: 0.8144 - recall: 0.6826 - f1_score: 0.7427 - val_loss: 0.3278 - val_accuracy: 0.8563 - val_precision: 0.8501 - val_recall: 0.7010 - val_f1_score: 0.7684\n",
      "Epoch 7/40\n",
      "689/689 [==============================] - 5s 7ms/step - loss: 0.3385 - accuracy: 0.8505 - precision: 0.8225 - recall: 0.7089 - f1_score: 0.7615 - val_loss: 0.3224 - val_accuracy: 0.8557 - val_precision: 0.8628 - val_recall: 0.6848 - val_f1_score: 0.7635\n",
      "Epoch 8/40\n",
      "689/689 [==============================] - 5s 7ms/step - loss: 0.3248 - accuracy: 0.8576 - precision: 0.8333 - recall: 0.7211 - f1_score: 0.7731 - val_loss: 0.3114 - val_accuracy: 0.8723 - val_precision: 0.8276 - val_recall: 0.7889 - val_f1_score: 0.8078\n",
      "Epoch 9/40\n",
      "689/689 [==============================] - 5s 7ms/step - loss: 0.3157 - accuracy: 0.8617 - precision: 0.8341 - recall: 0.7354 - f1_score: 0.7816 - val_loss: 0.2984 - val_accuracy: 0.8739 - val_precision: 0.8474 - val_recall: 0.7675 - val_f1_score: 0.8055\n",
      "Epoch 10/40\n",
      "689/689 [==============================] - 5s 7ms/step - loss: 0.3079 - accuracy: 0.8669 - precision: 0.8382 - recall: 0.7492 - f1_score: 0.7912 - val_loss: 0.2933 - val_accuracy: 0.8724 - val_precision: 0.8750 - val_recall: 0.7291 - val_f1_score: 0.7954\n",
      "Epoch 11/40\n",
      "689/689 [==============================] - 5s 7ms/step - loss: 0.2991 - accuracy: 0.8716 - precision: 0.8462 - recall: 0.7558 - f1_score: 0.7984 - val_loss: 0.2830 - val_accuracy: 0.8800 - val_precision: 0.8365 - val_recall: 0.8044 - val_f1_score: 0.8201\n",
      "Epoch 12/40\n",
      "689/689 [==============================] - 5s 7ms/step - loss: 0.2910 - accuracy: 0.8762 - precision: 0.8511 - recall: 0.7662 - f1_score: 0.8064 - val_loss: 0.2765 - val_accuracy: 0.8860 - val_precision: 0.8395 - val_recall: 0.8222 - val_f1_score: 0.8307\n",
      "Epoch 13/40\n",
      "689/689 [==============================] - 4s 6ms/step - loss: 0.2853 - accuracy: 0.8801 - precision: 0.8538 - recall: 0.7768 - f1_score: 0.8135 - val_loss: 0.2807 - val_accuracy: 0.8808 - val_precision: 0.9133 - val_recall: 0.7176 - val_f1_score: 0.8037\n",
      "Epoch 14/40\n",
      "689/689 [==============================] - 5s 7ms/step - loss: 0.2743 - accuracy: 0.8844 - precision: 0.8611 - recall: 0.7829 - f1_score: 0.8201 - val_loss: 0.2639 - val_accuracy: 0.8913 - val_precision: 0.8398 - val_recall: 0.8408 - val_f1_score: 0.8403\n",
      "Epoch 15/40\n",
      "689/689 [==============================] - 5s 7ms/step - loss: 0.2689 - accuracy: 0.8869 - precision: 0.8652 - recall: 0.7865 - f1_score: 0.8240 - val_loss: 0.2561 - val_accuracy: 0.8939 - val_precision: 0.8526 - val_recall: 0.8317 - val_f1_score: 0.8420\n",
      "Epoch 16/40\n",
      "689/689 [==============================] - 5s 7ms/step - loss: 0.2623 - accuracy: 0.8883 - precision: 0.8659 - recall: 0.7904 - f1_score: 0.8265 - val_loss: 0.2523 - val_accuracy: 0.8961 - val_precision: 0.8836 - val_recall: 0.8000 - val_f1_score: 0.8397\n",
      "Epoch 17/40\n",
      "689/689 [==============================] - 5s 7ms/step - loss: 0.2563 - accuracy: 0.8947 - precision: 0.8749 - recall: 0.8019 - f1_score: 0.8368 - val_loss: 0.2449 - val_accuracy: 0.9003 - val_precision: 0.8819 - val_recall: 0.8162 - val_f1_score: 0.8478\n",
      "Epoch 18/40\n",
      "689/689 [==============================] - 5s 7ms/step - loss: 0.2510 - accuracy: 0.8958 - precision: 0.8744 - recall: 0.8062 - f1_score: 0.8389 - val_loss: 0.2412 - val_accuracy: 0.9032 - val_precision: 0.8996 - val_recall: 0.8051 - val_f1_score: 0.8497\n",
      "Epoch 19/40\n",
      "689/689 [==============================] - 4s 7ms/step - loss: 0.2438 - accuracy: 0.9026 - precision: 0.8857 - recall: 0.8159 - f1_score: 0.8494 - val_loss: 0.2311 - val_accuracy: 0.9083 - val_precision: 0.8703 - val_recall: 0.8582 - val_f1_score: 0.8642\n",
      "Epoch 20/40\n",
      "689/689 [==============================] - 5s 7ms/step - loss: 0.2378 - accuracy: 0.9041 - precision: 0.8865 - recall: 0.8201 - f1_score: 0.8520 - val_loss: 0.2301 - val_accuracy: 0.9134 - val_precision: 0.9153 - val_recall: 0.8214 - val_f1_score: 0.8658\n",
      "Epoch 21/40\n",
      "689/689 [==============================] - 5s 7ms/step - loss: 0.2299 - accuracy: 0.9062 - precision: 0.8887 - recall: 0.8245 - f1_score: 0.8554 - val_loss: 0.2247 - val_accuracy: 0.9112 - val_precision: 0.9042 - val_recall: 0.8265 - val_f1_score: 0.8636\n",
      "Epoch 22/40\n",
      "689/689 [==============================] - 5s 7ms/step - loss: 0.2291 - accuracy: 0.9079 - precision: 0.8902 - recall: 0.8285 - f1_score: 0.8583 - val_loss: 0.2241 - val_accuracy: 0.9114 - val_precision: 0.9203 - val_recall: 0.8095 - val_f1_score: 0.8614\n",
      "Epoch 23/40\n",
      "689/689 [==============================] - 5s 7ms/step - loss: 0.2190 - accuracy: 0.9099 - precision: 0.8947 - recall: 0.8301 - f1_score: 0.8612 - val_loss: 0.2169 - val_accuracy: 0.9157 - val_precision: 0.8871 - val_recall: 0.8618 - val_f1_score: 0.8742\n",
      "Epoch 24/40\n",
      "689/689 [==============================] - 4s 7ms/step - loss: 0.2168 - accuracy: 0.9130 - precision: 0.8984 - recall: 0.8361 - f1_score: 0.8661 - val_loss: 0.2126 - val_accuracy: 0.9180 - val_precision: 0.9154 - val_recall: 0.8360 - val_f1_score: 0.8739\n",
      "Epoch 25/40\n",
      "689/689 [==============================] - 5s 7ms/step - loss: 0.2133 - accuracy: 0.9165 - precision: 0.9027 - recall: 0.8428 - f1_score: 0.8717 - val_loss: 0.2044 - val_accuracy: 0.9223 - val_precision: 0.8947 - val_recall: 0.8745 - val_f1_score: 0.8844\n",
      "Epoch 26/40\n",
      "689/689 [==============================] - 5s 7ms/step - loss: 0.2091 - accuracy: 0.9179 - precision: 0.9050 - recall: 0.8448 - f1_score: 0.8739 - val_loss: 0.2029 - val_accuracy: 0.9224 - val_precision: 0.9059 - val_recall: 0.8614 - val_f1_score: 0.8831\n",
      "Epoch 27/40\n",
      "689/689 [==============================] - 5s 7ms/step - loss: 0.2024 - accuracy: 0.9214 - precision: 0.9091 - recall: 0.8516 - f1_score: 0.8794 - val_loss: 0.1997 - val_accuracy: 0.9190 - val_precision: 0.9122 - val_recall: 0.8432 - val_f1_score: 0.8763\n",
      "Epoch 28/40\n",
      "689/689 [==============================] - 5s 7ms/step - loss: 0.1987 - accuracy: 0.9220 - precision: 0.9071 - recall: 0.8560 - f1_score: 0.8808 - val_loss: 0.2079 - val_accuracy: 0.9180 - val_precision: 0.9468 - val_recall: 0.8040 - val_f1_score: 0.8696\n",
      "Epoch 29/40\n",
      "689/689 [==============================] - 5s 7ms/step - loss: 0.1967 - accuracy: 0.9232 - precision: 0.9108 - recall: 0.8555 - f1_score: 0.8823 - val_loss: 0.1943 - val_accuracy: 0.9251 - val_precision: 0.9227 - val_recall: 0.8511 - val_f1_score: 0.8855\n",
      "Epoch 30/40\n",
      "689/689 [==============================] - 4s 7ms/step - loss: 0.1927 - accuracy: 0.9238 - precision: 0.9101 - recall: 0.8582 - f1_score: 0.8834 - val_loss: 0.1890 - val_accuracy: 0.9289 - val_precision: 0.9034 - val_recall: 0.8855 - val_f1_score: 0.8944\n",
      "Epoch 31/40\n",
      "689/689 [==============================] - 5s 7ms/step - loss: 0.1884 - accuracy: 0.9280 - precision: 0.9189 - recall: 0.8621 - f1_score: 0.8896 - val_loss: 0.1827 - val_accuracy: 0.9304 - val_precision: 0.9029 - val_recall: 0.8911 - val_f1_score: 0.8970\n"
     ]
    },
    {
     "name": "stdout",
     "output_type": "stream",
     "text": [
      "Epoch 32/40\n",
      "689/689 [==============================] - 4s 6ms/step - loss: 0.1824 - accuracy: 0.9290 - precision: 0.9154 - recall: 0.8692 - f1_score: 0.8917 - val_loss: 0.1809 - val_accuracy: 0.9318 - val_precision: 0.8992 - val_recall: 0.9006 - val_f1_score: 0.8999\n",
      "Epoch 33/40\n",
      "689/689 [==============================] - 5s 7ms/step - loss: 0.1763 - accuracy: 0.9326 - precision: 0.9207 - recall: 0.8752 - f1_score: 0.8973 - val_loss: 0.1758 - val_accuracy: 0.9310 - val_precision: 0.9106 - val_recall: 0.8840 - val_f1_score: 0.8971\n",
      "Epoch 34/40\n",
      "689/689 [==============================] - 5s 7ms/step - loss: 0.1741 - accuracy: 0.9320 - precision: 0.9203 - recall: 0.8737 - f1_score: 0.8964 - val_loss: 0.1826 - val_accuracy: 0.9333 - val_precision: 0.8810 - val_recall: 0.9295 - val_f1_score: 0.9046\n",
      "Epoch 35/40\n",
      "689/689 [==============================] - 5s 7ms/step - loss: 0.1705 - accuracy: 0.9344 - precision: 0.9217 - recall: 0.8799 - f1_score: 0.9003 - val_loss: 0.1719 - val_accuracy: 0.9340 - val_precision: 0.9403 - val_recall: 0.8606 - val_f1_score: 0.8987\n",
      "Epoch 36/40\n",
      "689/689 [==============================] - 5s 7ms/step - loss: 0.1689 - accuracy: 0.9362 - precision: 0.9227 - recall: 0.8845 - f1_score: 0.9032 - val_loss: 0.1719 - val_accuracy: 0.9331 - val_precision: 0.9405 - val_recall: 0.8574 - val_f1_score: 0.8970\n",
      "Epoch 37/40\n",
      "689/689 [==============================] - 5s 7ms/step - loss: 0.1657 - accuracy: 0.9386 - precision: 0.9277 - recall: 0.8868 - f1_score: 0.9068 - val_loss: 0.1729 - val_accuracy: 0.9340 - val_precision: 0.8909 - val_recall: 0.9184 - val_f1_score: 0.9044\n",
      "Epoch 38/40\n",
      "689/689 [==============================] - 5s 7ms/step - loss: 0.1630 - accuracy: 0.9377 - precision: 0.9290 - recall: 0.8823 - f1_score: 0.9051 - val_loss: 0.1637 - val_accuracy: 0.9364 - val_precision: 0.9333 - val_recall: 0.8756 - val_f1_score: 0.9036\n",
      "Epoch 39/40\n",
      "689/689 [==============================] - 5s 7ms/step - loss: 0.1616 - accuracy: 0.9375 - precision: 0.9240 - recall: 0.8873 - f1_score: 0.9053 - val_loss: 0.1615 - val_accuracy: 0.9399 - val_precision: 0.9456 - val_recall: 0.8737 - val_f1_score: 0.9082\n",
      "Epoch 40/40\n",
      "689/689 [==============================] - 5s 7ms/step - loss: 0.1526 - accuracy: 0.9436 - precision: 0.9355 - recall: 0.8939 - f1_score: 0.9142 - val_loss: 0.1548 - val_accuracy: 0.9425 - val_precision: 0.9342 - val_recall: 0.8939 - val_f1_score: 0.9136\n"
     ]
    }
   ],
   "source": [
    "#train cnn model\n",
    "history1 = modele.fit(train_x, train_y, epochs=40, batch_size=32, validation_data=(test_x, test_y)) "
   ]
  },
  {
   "cell_type": "code",
   "execution_count": 16,
   "id": "07859d5d",
   "metadata": {},
   "outputs": [
    {
     "data": {
      "image/png": "[encoded data removed]",
      "text/plain": [
       "<Figure size 432x288 with 1 Axes>"
      ]
     },
     "metadata": {
      "needs_background": "light"
     },
     "output_type": "display_data"
    },
    {
     "data": {
      "image/png": "[encoded data removed]",
      "text/plain": [
       "<Figure size 432x288 with 1 Axes>"
      ]
     },
     "metadata": {
      "needs_background": "light"
     },
     "output_type": "display_data"
    }
   ],
   "source": [
    "import matplotlib.pyplot as plt\n",
    "\n",
    "# Get the training and validation metrics from history.history\n",
    "train_loss = history1.history['loss']\n",
    "val_loss = history1.history['val_loss']\n",
    "train_accuracy = history1.history['accuracy']\n",
    "val_accuracy = history1.history['val_accuracy']\n",
    "\n",
    "# Get the number of iterations\n",
    "num_iterations = len(train_loss)\n",
    "\n",
    "# Create a list of iterations\n",
    "iterations = range(1, num_iterations + 1)\n",
    "\n",
    "# Plot the training and validation loss\n",
    "plt.plot(iterations, train_loss, 'bo-', label='Training Loss')\n",
    "plt.plot(iterations, val_loss, 'ro-', label='Validation Loss')\n",
    "plt.xlabel('Iterations')\n",
    "plt.ylabel('Loss')\n",
    "plt.title('Training and Validation Loss (per iteration)')\n",
    "plt.legend()\n",
    "plt.show()\n",
    "\n",
    "# Plot the training and validation accuracy\n",
    "plt.plot(iterations, train_accuracy, 'bo-', label='Training Accuracy')\n",
    "plt.plot(iterations, val_accuracy, 'ro-', label='Validation Accuracy')\n",
    "plt.xlabel('Iterations')\n",
    "plt.ylabel('Accuracy')\n",
    "plt.title('Training and Validation Accuracy (per iteration)')\n",
    "plt.legend()\n",
    "plt.show()\n"
   ]
  },
  {
   "cell_type": "code",
   "execution_count": 3,
   "id": "0d31a6f1",
   "metadata": {},
   "outputs": [
    {
     "name": "stdout",
     "output_type": "stream",
     "text": [
      "           OPERATION           DATA DIMENSIONS   WEIGHTS(N)   WEIGHTS(%)\n",
      "\n",
      "               Input   #####         300\n",
      "             Reshape     |   -------------------         0     0.0%\n",
      "                       #####    300    1\n",
      "              Conv1D    \\|/  -------------------       128     0.0%\n",
      "                relu   #####    298   32\n",
      "        MaxPooling1D   Y max -------------------         0     0.0%\n",
      "                       #####    149   32\n",
      "             Flatten   ||||| -------------------         0     0.0%\n",
      "                       #####        4768\n",
      "               Dense   XXXXX -------------------    305216    99.9%\n",
      "                relu   #####          64\n",
      "             Dropout    | || -------------------         0     0.0%\n",
      "                       #####          64\n",
      "               Dense   XXXXX -------------------        65     0.0%\n",
      "             sigmoid   #####           1\n"
     ]
    }
   ],
   "source": [
    "#draw the schemantic of the model\n",
    "from keras_sequential_ascii import keras2ascii\n",
    "keras2ascii(modele)"
   ]
  },
  {
   "cell_type": "code",
   "execution_count": 28,
   "id": "906ba214",
   "metadata": {},
   "outputs": [
    {
     "name": "stdout",
     "output_type": "stream",
     "text": [
      "227/227 [==============================] - 13s 4ms/step - loss: 0.1526 - accuracy: 0.9438 - precision: 0.9357 - recall: 0.8922 - f1_score: 0.9134\n"
     ]
    }
   ],
   "source": [
    "#modele = keras.models.load_model(path+\"cnnfinal2128\",custom_objects={'F1Score': F1Score})\n",
    "results = modele.evaluate(val_x,val_y)"
   ]
  },
  {
   "cell_type": "code",
   "execution_count": 8,
   "id": "a47ba3a4",
   "metadata": {},
   "outputs": [],
   "source": [
    "#function to transform the hex data to int\n",
    "def convert_to_int(chars):\n",
    "    low_byte = int(chars[:2], 16)\n",
    "    high_byte = int(chars[2:], 16)\n",
    "    # Perform sign extension if the high byte is negative\n",
    "    if high_byte & 0x80:\n",
    "        high_byte -= 0x100\n",
    "    # Combine the bytes and return the result\n",
    "    return (high_byte << 8) | low_byte"
   ]
  },
  {
   "cell_type": "code",
   "execution_count": 5,
   "id": "0f56d91f",
   "metadata": {},
   "outputs": [],
   "source": [
    "#load our data\n",
    "cir_los = np.load('184cirloswithdb.npy')\n",
    "cir_wlos = np.load('184cirwloswithdb.npy')\n",
    "cir_nlos = np.load('232cirloswithdbnlos.npy')\n",
    "cir_nnlos = np.load('nlossecondcir.npy')"
   ]
  },
  {
   "cell_type": "code",
   "execution_count": null,
   "id": "98147b22",
   "metadata": {},
   "outputs": [],
   "source": [
    "#manipulate data so each sample is represented by the cir magnitude\n",
    "import math\n",
    "import statistics\n",
    "def make_pred(FL):\n",
    "    i=0\n",
    "    sJ = [0]*300\n",
    "    cirR = [0]*300\n",
    "    cirI = [0]*300\n",
    "    for j in range(0,300):     \n",
    "        cirR[j] =  convert_to_int(FL[i:i+4])\n",
    "        cirI[j] =  convert_to_int(FL[i+4:i+8])\n",
    "        sJ[j]=j\n",
    "        i = i+8 \n",
    "    final = [0]*300\n",
    "    for i in range(len(cirI)):\n",
    "        cirI[i] *= cirI[i]\n",
    "        cirR[i] *= cirR[i]\n",
    "        final[i] = math.sqrt(cirR[i]+cirI[i])\n",
    "    \n",
    "    # Calculate the mean of the list\n",
    "    \n",
    "    mean = statistics.mean(final)\n",
    "    \n",
    "\n",
    "    # Calculate the standard deviation of the list\n",
    "    std_dev = np.std(final)\n",
    "\n",
    "    for i in range(len(cirI)):\n",
    "        final[i] = (final[i] - mean)/std_dev        \n",
    "    zero = np.array(final)\n",
    "    return zero "
   ]
  },
  {
   "cell_type": "code",
   "execution_count": null,
   "id": "536768dd",
   "metadata": {},
   "outputs": [],
   "source": [
    "#keep a number of samples from each category, so the set is balanced\n",
    "\n",
    "testlos = cir_los[100:850]\n",
    "testnlos = cir_nlos[5:505]\n",
    "testwlos = cir_wlos[100:850]\n",
    "testnnlos = cir_nnlos[305:1305]\n",
    "test_real = np.append(testlos,testwlos,axis=0)\n",
    "test_real = np.append(test_real,testnlos,axis=0)\n",
    "test_real = np.append(test_real,testnnlos,axis=0)\n",
    "print(test_real.shape)"
   ]
  },
  {
   "cell_type": "code",
   "execution_count": null,
   "id": "d7f5b4c7",
   "metadata": {},
   "outputs": [],
   "source": [
    "#make the labels for our dataset\n",
    "label_los = np.array([0]*1500)\n",
    "label_nlos = np.array([1]*1500)\n",
    "labels = np.append(label_los,label_nlos,axis=0)\n",
    "print(label.shape)\n",
    "emptyz = np.empty(( 3000, 300))\n",
    "for i in range(0,3000):\n",
    "    emptyz[i] = make_pred(test_real[i])\n",
    "    #create array of cir magnitude for our set"
   ]
  },
  {
   "cell_type": "code",
   "execution_count": null,
   "id": "c9766b0c",
   "metadata": {},
   "outputs": [],
   "source": [
    "#save training history of model\n",
    "np.save('history2128.npy',history1.history)"
   ]
  },
  {
   "cell_type": "code",
   "execution_count": 24,
   "id": "52af381f",
   "metadata": {},
   "outputs": [
    {
     "name": "stdout",
     "output_type": "stream",
     "text": [
      "63/63 [==============================] - 0s 3ms/step - loss: 0.1243 - accuracy: 0.9590 - precision: 0.9978 - recall: 0.9200 - f1_score: 0.9573    \n"
     ]
    }
   ],
   "source": [
    "#evaluate model performance in our dataset\n",
    "hf = modele.evaluate(empty,label)"
   ]
  },
  {
   "cell_type": "code",
   "execution_count": 25,
   "id": "51eb3ed9",
   "metadata": {},
   "outputs": [
    {
     "name": "stdout",
     "output_type": "stream",
     "text": [
      "INFO:tensorflow:Assets written to: /home/alexander/Downloads/cnnfinal2128/assets\n"
     ]
    }
   ],
   "source": [
    "#save cnn model\n",
    "modele.save(path+\"cnnfinal2128\")"
   ]
  },
  {
   "cell_type": "code",
   "execution_count": 17,
   "id": "788880ad",
   "metadata": {},
   "outputs": [
    {
     "name": "stdout",
     "output_type": "stream",
     "text": [
      "(2000,)\n",
      "94/94 [==============================] - 3s 2ms/step - loss: 0.3819 - accuracy: 0.8493 - precision_18: 0.9943 - recall_18: 0.7027 - f1_score: 0.8234      \n"
     ]
    }
   ],
   "source": [
    "label_los = np.array([0]*1500)\n",
    "label_nlos = np.array([1]*1500)\n",
    "labels = np.append(label_los,label_nlos,axis=0)\n",
    "print(label.shape)\n",
    "emptyz = np.empty(( 3000, 300))\n",
    "for i in range(0,3000):\n",
    "    emptyz[i] = make_pred(test_real[i])\n",
    "hn = modelyux.evaluate(emptyz,labels)  \n"
   ]
  },
  {
   "cell_type": "code",
   "execution_count": 36,
   "id": "64d26105",
   "metadata": {},
   "outputs": [],
   "source": [
    "np.save('history2128.npy',history1.history)"
   ]
  },
  {
   "cell_type": "code",
   "execution_count": 73,
   "id": "ad51b028",
   "metadata": {},
   "outputs": [],
   "source": [
    "#fc nn model\n",
    "modelyux = tf.keras.Sequential([\n",
    "  layers.Dense(64, activation='relu', input_shape=(300,)),\n",
    "  layers.Dropout(0.5),  \n",
    "  layers.Dense(64, activation='relu'),\n",
    "  layers.Dropout(0.5),  \n",
    "  layers.Dense(64, activation='relu'),  \n",
    "  layers.Dropout(0.5),\n",
    "  layers.Dense(64, activation='relu'),\n",
    "  layers.Dropout(0.5), \n",
    "  layers.Dense(32, activation='relu'),\n",
    "  layers.Dropout(0.5), \n",
    "  layers.Dense(16, activation='relu',kernel_regularizer=tf.keras.regularizers.l2(0.005)),\n",
    "  layers.Dense(1, activation='sigmoid')\n",
    "])\n",
    "\n",
    "# Compile your model\n",
    "# Compile your model with the F1 score metric\n",
    "modelyux.compile(optimizer=optimizer,\n",
    "               loss='binary_crossentropy',\n",
    "               metrics=['accuracy', tf.keras.metrics.Precision(), tf.keras.metrics.Recall(), F1Score()])"
   ]
  },
  {
   "cell_type": "code",
   "execution_count": 75,
   "id": "b0a851a7",
   "metadata": {},
   "outputs": [
    {
     "name": "stdout",
     "output_type": "stream",
     "text": [
      "Epoch 1/20\n",
      "2202/2202 [==============================] - 8s 3ms/step - loss: 0.7187 - accuracy: 0.6526 - precision_20: 0.3069 - recall_20: 0.0256 - f1_score: 0.0473 - val_loss: 0.7073 - val_accuracy: 0.6599 - val_precision_20: 0.0000e+00 - val_recall_20: 0.0000e+00 - val_f1_score: 0.0000e+00\n",
      "Epoch 2/20\n",
      "2202/2202 [==============================] - 6s 3ms/step - loss: 0.6547 - accuracy: 0.6634 - precision_20: 0.0000e+00 - recall_20: 0.0000e+00 - f1_score: 0.0000e+00 - val_loss: 0.6696 - val_accuracy: 0.6599 - val_precision_20: 0.0000e+00 - val_recall_20: 0.0000e+00 - val_f1_score: 0.0000e+00\n",
      "Epoch 3/20\n",
      "2202/2202 [==============================] - 6s 3ms/step - loss: 0.6184 - accuracy: 0.6634 - precision_20: 0.0000e+00 - recall_20: 0.0000e+00 - f1_score: 0.0000e+00 - val_loss: 0.6446 - val_accuracy: 0.6599 - val_precision_20: 0.0000e+00 - val_recall_20: 0.0000e+00 - val_f1_score: 0.0000e+00\n",
      "Epoch 4/20\n",
      "2202/2202 [==============================] - 6s 3ms/step - loss: 0.5930 - accuracy: 0.6693 - precision_20: 0.8678 - recall_20: 0.0204 - f1_score: 0.0398 - val_loss: 0.6293 - val_accuracy: 0.7563 - val_precision_20: 0.8683 - val_recall_20: 0.3343 - val_f1_score: 0.4827\n",
      "Epoch 5/20\n",
      "2202/2202 [==============================] - 6s 3ms/step - loss: 0.5731 - accuracy: 0.7515 - precision_20: 0.7942 - recall_20: 0.3531 - f1_score: 0.4889 - val_loss: 0.6103 - val_accuracy: 0.7849 - val_precision_20: 0.8191 - val_recall_20: 0.4717 - val_f1_score: 0.5986\n",
      "Epoch 6/20\n",
      "2202/2202 [==============================] - 6s 3ms/step - loss: 0.5529 - accuracy: 0.7678 - precision_20: 0.7789 - recall_20: 0.4330 - f1_score: 0.5566 - val_loss: 0.5970 - val_accuracy: 0.8000 - val_precision_20: 0.7559 - val_recall_20: 0.6083 - val_f1_score: 0.6741\n",
      "Epoch 7/20\n",
      "2202/2202 [==============================] - 6s 3ms/step - loss: 0.5372 - accuracy: 0.7798 - precision_20: 0.7641 - recall_20: 0.5001 - f1_score: 0.6045 - val_loss: 0.5684 - val_accuracy: 0.8009 - val_precision_20: 0.7580 - val_recall_20: 0.6091 - val_f1_score: 0.6755\n",
      "Epoch 8/20\n",
      "2202/2202 [==============================] - 6s 3ms/step - loss: 0.5224 - accuracy: 0.7836 - precision_20: 0.7434 - recall_20: 0.5453 - f1_score: 0.6291 - val_loss: 0.5567 - val_accuracy: 0.8048 - val_precision_20: 0.7166 - val_recall_20: 0.7050 - val_f1_score: 0.7107\n",
      "Epoch 9/20\n",
      "2202/2202 [==============================] - 6s 3ms/step - loss: 0.5092 - accuracy: 0.7881 - precision_20: 0.7313 - recall_20: 0.5853 - f1_score: 0.6502 - val_loss: 0.5348 - val_accuracy: 0.8106 - val_precision_20: 0.7303 - val_recall_20: 0.7026 - val_f1_score: 0.7162\n",
      "Epoch 10/20\n",
      "2202/2202 [==============================] - 6s 3ms/step - loss: 0.4927 - accuracy: 0.7958 - precision_20: 0.7348 - recall_20: 0.6154 - f1_score: 0.6698 - val_loss: 0.5312 - val_accuracy: 0.8056 - val_precision_20: 0.6964 - val_recall_20: 0.7596 - val_f1_score: 0.7267\n",
      "Epoch 11/20\n",
      "2202/2202 [==============================] - 6s 3ms/step - loss: 0.4838 - accuracy: 0.7994 - precision_20: 0.7308 - recall_20: 0.6393 - f1_score: 0.6820 - val_loss: 0.5054 - val_accuracy: 0.8138 - val_precision_20: 0.7138 - val_recall_20: 0.7556 - val_f1_score: 0.7341\n",
      "Epoch 12/20\n",
      "2202/2202 [==============================] - 6s 3ms/step - loss: 0.4693 - accuracy: 0.8034 - precision_20: 0.7285 - recall_20: 0.6627 - f1_score: 0.6940 - val_loss: 0.4932 - val_accuracy: 0.8239 - val_precision_20: 0.7434 - val_recall_20: 0.7366 - val_f1_score: 0.7400\n",
      "Epoch 13/20\n",
      "2202/2202 [==============================] - 6s 3ms/step - loss: 0.4614 - accuracy: 0.8094 - precision_20: 0.7391 - recall_20: 0.6704 - f1_score: 0.7030 - val_loss: 0.4815 - val_accuracy: 0.8248 - val_precision_20: 0.7299 - val_recall_20: 0.7695 - val_f1_score: 0.7492\n",
      "Epoch 14/20\n",
      "2202/2202 [==============================] - 6s 3ms/step - loss: 0.4496 - accuracy: 0.8158 - precision_20: 0.7392 - recall_20: 0.6994 - f1_score: 0.7187 - val_loss: 0.4781 - val_accuracy: 0.8270 - val_precision_20: 0.7346 - val_recall_20: 0.7695 - val_f1_score: 0.7516\n",
      "Epoch 15/20\n",
      "2202/2202 [==============================] - 6s 3ms/step - loss: 0.4438 - accuracy: 0.8173 - precision_20: 0.7461 - recall_20: 0.6928 - f1_score: 0.7184 - val_loss: 0.4602 - val_accuracy: 0.8334 - val_precision_20: 0.7449 - val_recall_20: 0.7758 - val_f1_score: 0.7600\n",
      "Epoch 16/20\n",
      "2202/2202 [==============================] - 6s 3ms/step - loss: 0.4357 - accuracy: 0.8210 - precision_20: 0.7439 - recall_20: 0.7138 - f1_score: 0.7285 - val_loss: 0.4407 - val_accuracy: 0.8363 - val_precision_20: 0.7525 - val_recall_20: 0.7731 - val_f1_score: 0.7626\n",
      "Epoch 17/20\n",
      "2202/2202 [==============================] - 6s 3ms/step - loss: 0.4265 - accuracy: 0.8230 - precision_20: 0.7462 - recall_20: 0.7183 - f1_score: 0.7320 - val_loss: 0.4122 - val_accuracy: 0.8417 - val_precision_20: 0.7683 - val_recall_20: 0.7655 - val_f1_score: 0.7669\n",
      "Epoch 18/20\n",
      "2202/2202 [==============================] - 6s 3ms/step - loss: 0.4226 - accuracy: 0.8248 - precision_20: 0.7446 - recall_20: 0.7299 - f1_score: 0.7372 - val_loss: 0.4357 - val_accuracy: 0.8388 - val_precision_20: 0.7436 - val_recall_20: 0.8028 - val_f1_score: 0.7720\n",
      "Epoch 19/20\n",
      "2202/2202 [==============================] - 6s 3ms/step - loss: 0.4134 - accuracy: 0.8267 - precision_20: 0.7481 - recall_20: 0.7311 - f1_score: 0.7395 - val_loss: 0.4139 - val_accuracy: 0.8487 - val_precision_20: 0.7751 - val_recall_20: 0.7822 - val_f1_score: 0.7786\n",
      "Epoch 20/20\n",
      "2202/2202 [==============================] - 6s 3ms/step - loss: 0.4018 - accuracy: 0.8356 - precision_20: 0.7587 - recall_20: 0.7501 - f1_score: 0.7544 - val_loss: 0.3950 - val_accuracy: 0.8532 - val_precision_20: 0.7833 - val_recall_20: 0.7857 - val_f1_score: 0.7845\n"
     ]
    }
   ],
   "source": [
    "history2 = modelyux.fit(train_x, train_y, epochs=20 ,batch_size=10, validation_data=(test_x, test_y))"
   ]
  },
  {
   "cell_type": "code",
   "execution_count": 46,
   "id": "8aaca8d1",
   "metadata": {},
   "outputs": [
    {
     "name": "stdout",
     "output_type": "stream",
     "text": [
      "94/94 [==============================] - 1s 2ms/step - loss: 0.3819 - accuracy: 0.8493 - precision_18: 0.9943 - recall_18: 0.7027 - f1_score: 0.8234    \n"
     ]
    }
   ],
   "source": [
    "#evaluate on our dataset\n",
    "f = modelyux.evaluate(emptyz,labels)"
   ]
  },
  {
   "cell_type": "code",
   "execution_count": 76,
   "id": "865a8dcb",
   "metadata": {},
   "outputs": [
    {
     "name": "stdout",
     "output_type": "stream",
     "text": [
      "227/227 [==============================] - 0s 1ms/step - loss: 0.2767 - accuracy: 0.9019 - precision_18: 0.8509 - recall_18: 0.8545 - f1_score: 0.8527\n"
     ]
    }
   ],
   "source": [
    "#evaluate on testing dataset - testing set used as validation and vice versa\n",
    "gg = modelyux.evaluate(val_x,val_y)"
   ]
  },
  {
   "cell_type": "code",
   "execution_count": 8,
   "id": "5ed4fa75",
   "metadata": {},
   "outputs": [
    {
     "data": {
      "image/png": "[encoded data removed]",
      "text/plain": [
       "<Figure size 432x288 with 1 Axes>"
      ]
     },
     "metadata": {
      "needs_background": "light"
     },
     "output_type": "display_data"
    },
    {
     "data": {
      "image/png": "[encoded data removed]",
      "text/plain": [
       "<Figure size 432x288 with 1 Axes>"
      ]
     },
     "metadata": {
      "needs_background": "light"
     },
     "output_type": "display_data"
    }
   ],
   "source": [
    "import matplotlib.pyplot as plt\n",
    "\n",
    "train_loss = historykl['loss']\n",
    "val_loss = historykl['val_loss']\n",
    "train_accuracy = historykl['accuracy']\n",
    "val_accuracy = historykl['val_accuracy']\n",
    "\n",
    "# Get the number of iterations\n",
    "num_iterations = len(train_loss)\n",
    "\n",
    "# Create a list of iterations\n",
    "iterations = range(1, num_iterations + 1)\n",
    "\n",
    "# Plot the training and validation loss\n",
    "plt.plot(iterations, train_loss, 'bo-', label='Training Loss')\n",
    "plt.plot(iterations, val_loss, 'ro-', label='Testing Loss')\n",
    "plt.xlabel('Epochs')\n",
    "plt.ylabel('Loss')\n",
    "plt.title('Training and Testing Loss (per epoch)')\n",
    "plt.legend()\n",
    "plt.show()\n",
    "\n",
    "# Plot the training and validation accuracy\n",
    "plt.plot(iterations, train_accuracy, 'bo-', label='Training Accuracy')\n",
    "plt.plot(iterations, val_accuracy, 'ro-', label='Testing Accuracy')\n",
    "plt.xlabel('Epochs')\n",
    "plt.ylabel('Accuracy')\n",
    "plt.title('Training and Testing Accuracy (per epoch)')\n",
    "plt.legend()\n",
    "plt.show()"
   ]
  },
  {
   "cell_type": "code",
   "execution_count": 78,
   "id": "9f2ca8e8",
   "metadata": {},
   "outputs": [
    {
     "name": "stdout",
     "output_type": "stream",
     "text": [
      "INFO:tensorflow:Assets written to: /home/alexander/Downloads/fcnnfinal2128/assets\n"
     ]
    }
   ],
   "source": [
    "modelyux.save(path+\"fcnnfinal2128\")\n",
    "np.save('historyfcnn2128.npy',history2.history)"
   ]
  }
 ],
 "metadata": {
  "kernelspec": {
   "display_name": "Python 3",
   "language": "python",
   "name": "python3"
  },
  "language_info": {
   "codemirror_mode": {
    "name": "ipython",
    "version": 3
   },
   "file_extension": ".py",
   "mimetype": "text/x-python",
   "name": "python",
   "nbconvert_exporter": "python",
   "pygments_lexer": "ipython3",
   "version": "3.6.13"
  }
 },
 "nbformat": 4,
 "nbformat_minor": 5
}
