{
 "cells": [
  {
   "cell_type": "code",
   "execution_count": 1,
   "id": "c1e11335",
   "metadata": {},
   "outputs": [],
   "source": [
    "import tensorflow as tf\n",
    "import pickle5\n",
    "from sklearn.datasets import load_boston\n",
    "import sklearn.linear_model as sk\n",
    "import numpy as np\n",
    "import pandas as pd\n",
    "from sklearn.decomposition import PCA\n",
    "from sklearn.preprocessing import StandardScaler\n",
    "from tensorflow import keras\n",
    "from tensorflow.keras import layers"
   ]
  },
  {
   "cell_type": "code",
   "execution_count": 2,
   "id": "20cc021e",
   "metadata": {},
   "outputs": [],
   "source": [
    "path = \"/home/alexander/Downloads/\""
   ]
  },
  {
   "cell_type": "code",
   "execution_count": 3,
   "id": "f7313ede",
   "metadata": {},
   "outputs": [
    {
     "data": {
      "text/html": [
       "<div>\n",
       "<style scoped>\n",
       "    .dataframe tbody tr th:only-of-type {\n",
       "        vertical-align: middle;\n",
       "    }\n",
       "\n",
       "    .dataframe tbody tr th {\n",
       "        vertical-align: top;\n",
       "    }\n",
       "\n",
       "    .dataframe thead th {\n",
       "        text-align: right;\n",
       "    }\n",
       "</style>\n",
       "<table border=\"1\" class=\"dataframe\">\n",
       "  <thead>\n",
       "    <tr style=\"text-align: right;\">\n",
       "      <th></th>\n",
       "      <th>real_rng</th>\n",
       "      <th>rng</th>\n",
       "      <th>rssi</th>\n",
       "      <th>fp_idx</th>\n",
       "      <th>fp_power</th>\n",
       "      <th>fp_amp1</th>\n",
       "      <th>fp_amp2</th>\n",
       "      <th>fp_amp3</th>\n",
       "      <th>std_noise</th>\n",
       "      <th>pacc_cnt</th>\n",
       "      <th>cir_real</th>\n",
       "      <th>cir_imag</th>\n",
       "      <th>condition</th>\n",
       "      <th>location_from</th>\n",
       "      <th>location_to</th>\n",
       "      <th>msid</th>\n",
       "    </tr>\n",
       "  </thead>\n",
       "  <tbody>\n",
       "    <tr>\n",
       "      <th>0</th>\n",
       "      <td>6.269</td>\n",
       "      <td>8.874</td>\n",
       "      <td>-80.101</td>\n",
       "      <td>749</td>\n",
       "      <td>-93.925</td>\n",
       "      <td>287</td>\n",
       "      <td>1596</td>\n",
       "      <td>1881</td>\n",
       "      <td>52</td>\n",
       "      <td>101</td>\n",
       "      <td>[-25, -35, 1, 64, -11, -146, 34, -49, -174, -1...</td>\n",
       "      <td>[15, 54, 64, -15, 34, 72, 41, -3, -33, -70, -1...</td>\n",
       "      <td>nlos</td>\n",
       "      <td>hw</td>\n",
       "      <td>hw</td>\n",
       "      <td>0</td>\n",
       "    </tr>\n",
       "    <tr>\n",
       "      <th>1</th>\n",
       "      <td>6.269</td>\n",
       "      <td>8.045</td>\n",
       "      <td>-80.136</td>\n",
       "      <td>743</td>\n",
       "      <td>-93.968</td>\n",
       "      <td>1404</td>\n",
       "      <td>1657</td>\n",
       "      <td>1179</td>\n",
       "      <td>36</td>\n",
       "      <td>101</td>\n",
       "      <td>[53, -10, 114, -5, -11, 152, 155, 81, 71, -15,...</td>\n",
       "      <td>[-46, 67, -42, -24, 18, -58, -15, 64, 5, -99, ...</td>\n",
       "      <td>nlos</td>\n",
       "      <td>hw</td>\n",
       "      <td>hw</td>\n",
       "      <td>0</td>\n",
       "    </tr>\n",
       "    <tr>\n",
       "      <th>2</th>\n",
       "      <td>6.269</td>\n",
       "      <td>8.006</td>\n",
       "      <td>-80.202</td>\n",
       "      <td>747</td>\n",
       "      <td>-94.004</td>\n",
       "      <td>1467</td>\n",
       "      <td>1683</td>\n",
       "      <td>1035</td>\n",
       "      <td>40</td>\n",
       "      <td>101</td>\n",
       "      <td>[44, -31, -11, -111, -16, 56, -1, -55, -30, 24...</td>\n",
       "      <td>[-43, -76, -41, -40, -96, 28, -19, 24, 85, 15,...</td>\n",
       "      <td>nlos</td>\n",
       "      <td>hw</td>\n",
       "      <td>hw</td>\n",
       "      <td>0</td>\n",
       "    </tr>\n",
       "    <tr>\n",
       "      <th>3</th>\n",
       "      <td>6.269</td>\n",
       "      <td>7.945</td>\n",
       "      <td>-80.082</td>\n",
       "      <td>751</td>\n",
       "      <td>-93.533</td>\n",
       "      <td>1068</td>\n",
       "      <td>1721</td>\n",
       "      <td>1627</td>\n",
       "      <td>40</td>\n",
       "      <td>101</td>\n",
       "      <td>[-113, -27, 37, -32, 4, -30, 23, 12, 45, -38, ...</td>\n",
       "      <td>[70, 114, -56, -48, 87, 4, 44, 113, 43, -6, 81...</td>\n",
       "      <td>nlos</td>\n",
       "      <td>hw</td>\n",
       "      <td>hw</td>\n",
       "      <td>0</td>\n",
       "    </tr>\n",
       "    <tr>\n",
       "      <th>4</th>\n",
       "      <td>6.269</td>\n",
       "      <td>8.047</td>\n",
       "      <td>-80.166</td>\n",
       "      <td>749</td>\n",
       "      <td>-93.624</td>\n",
       "      <td>940</td>\n",
       "      <td>1595</td>\n",
       "      <td>1784</td>\n",
       "      <td>40</td>\n",
       "      <td>101</td>\n",
       "      <td>[99, -25, -34, -18, 92, -7, -14, -65, -12, 112...</td>\n",
       "      <td>[-134, -1, 66, 23, 67, 97, -38, 11, 19, -37, 7...</td>\n",
       "      <td>nlos</td>\n",
       "      <td>hw</td>\n",
       "      <td>hw</td>\n",
       "      <td>0</td>\n",
       "    </tr>\n",
       "    <tr>\n",
       "      <th>...</th>\n",
       "      <td>...</td>\n",
       "      <td>...</td>\n",
       "      <td>...</td>\n",
       "      <td>...</td>\n",
       "      <td>...</td>\n",
       "      <td>...</td>\n",
       "      <td>...</td>\n",
       "      <td>...</td>\n",
       "      <td>...</td>\n",
       "      <td>...</td>\n",
       "      <td>...</td>\n",
       "      <td>...</td>\n",
       "      <td>...</td>\n",
       "      <td>...</td>\n",
       "      <td>...</td>\n",
       "      <td>...</td>\n",
       "    </tr>\n",
       "    <tr>\n",
       "      <th>36696</th>\n",
       "      <td>3.191</td>\n",
       "      <td>3.076</td>\n",
       "      <td>-79.575</td>\n",
       "      <td>744</td>\n",
       "      <td>-81.128</td>\n",
       "      <td>6251</td>\n",
       "      <td>6550</td>\n",
       "      <td>5954</td>\n",
       "      <td>40</td>\n",
       "      <td>101</td>\n",
       "      <td>[52, -104, -95, -69, -34, 9, 66, -43, -193, -9...</td>\n",
       "      <td>[114, 47, 1, -34, -108, -90, 126, 94, 55, 169,...</td>\n",
       "      <td>los</td>\n",
       "      <td>til</td>\n",
       "      <td>til</td>\n",
       "      <td>748</td>\n",
       "    </tr>\n",
       "    <tr>\n",
       "      <th>36697</th>\n",
       "      <td>3.191</td>\n",
       "      <td>3.053</td>\n",
       "      <td>-79.866</td>\n",
       "      <td>749</td>\n",
       "      <td>-81.564</td>\n",
       "      <td>5480</td>\n",
       "      <td>6264</td>\n",
       "      <td>6079</td>\n",
       "      <td>44</td>\n",
       "      <td>101</td>\n",
       "      <td>[42, -7, -43, 1, 70, 47, 11, 50, -33, -91, 20,...</td>\n",
       "      <td>[53, 142, 28, -76, -128, -42, 132, 50, 64, 104...</td>\n",
       "      <td>los</td>\n",
       "      <td>til</td>\n",
       "      <td>til</td>\n",
       "      <td>748</td>\n",
       "    </tr>\n",
       "    <tr>\n",
       "      <th>36698</th>\n",
       "      <td>3.191</td>\n",
       "      <td>3.056</td>\n",
       "      <td>-79.689</td>\n",
       "      <td>748</td>\n",
       "      <td>-81.709</td>\n",
       "      <td>6355</td>\n",
       "      <td>6225</td>\n",
       "      <td>4857</td>\n",
       "      <td>44</td>\n",
       "      <td>101</td>\n",
       "      <td>[-74, -43, 38, 62, -3, -90, -49, -25, 39, 28, ...</td>\n",
       "      <td>[-103, -214, 34, 79, 123, 34, -101, 14, -106, ...</td>\n",
       "      <td>los</td>\n",
       "      <td>til</td>\n",
       "      <td>til</td>\n",
       "      <td>748</td>\n",
       "    </tr>\n",
       "    <tr>\n",
       "      <th>36699</th>\n",
       "      <td>3.191</td>\n",
       "      <td>3.067</td>\n",
       "      <td>-79.859</td>\n",
       "      <td>745</td>\n",
       "      <td>-82.538</td>\n",
       "      <td>6014</td>\n",
       "      <td>6024</td>\n",
       "      <td>3525</td>\n",
       "      <td>48</td>\n",
       "      <td>101</td>\n",
       "      <td>[55, 120, 63, -69, -52, -74, -107, 60, 147, -1...</td>\n",
       "      <td>[-80, -58, 32, 128, 55, -5, -2, -23, 49, 131, ...</td>\n",
       "      <td>los</td>\n",
       "      <td>til</td>\n",
       "      <td>til</td>\n",
       "      <td>748</td>\n",
       "    </tr>\n",
       "    <tr>\n",
       "      <th>36700</th>\n",
       "      <td>3.191</td>\n",
       "      <td>3.081</td>\n",
       "      <td>-79.752</td>\n",
       "      <td>751</td>\n",
       "      <td>-82.509</td>\n",
       "      <td>6182</td>\n",
       "      <td>6083</td>\n",
       "      <td>3197</td>\n",
       "      <td>44</td>\n",
       "      <td>101</td>\n",
       "      <td>[238, 206, 82, -4, -57, -82, 49, 104, 73, -23,...</td>\n",
       "      <td>[-14, 43, 56, 71, 124, 30, -61, -72, 26, 135, ...</td>\n",
       "      <td>los</td>\n",
       "      <td>til</td>\n",
       "      <td>til</td>\n",
       "      <td>748</td>\n",
       "    </tr>\n",
       "  </tbody>\n",
       "</table>\n",
       "<p>36701 rows × 16 columns</p>\n",
       "</div>"
      ],
      "text/plain": [
       "       real_rng    rng    rssi  fp_idx  fp_power  fp_amp1  fp_amp2  fp_amp3  \\\n",
       "0         6.269  8.874 -80.101     749   -93.925      287     1596     1881   \n",
       "1         6.269  8.045 -80.136     743   -93.968     1404     1657     1179   \n",
       "2         6.269  8.006 -80.202     747   -94.004     1467     1683     1035   \n",
       "3         6.269  7.945 -80.082     751   -93.533     1068     1721     1627   \n",
       "4         6.269  8.047 -80.166     749   -93.624      940     1595     1784   \n",
       "...         ...    ...     ...     ...       ...      ...      ...      ...   \n",
       "36696     3.191  3.076 -79.575     744   -81.128     6251     6550     5954   \n",
       "36697     3.191  3.053 -79.866     749   -81.564     5480     6264     6079   \n",
       "36698     3.191  3.056 -79.689     748   -81.709     6355     6225     4857   \n",
       "36699     3.191  3.067 -79.859     745   -82.538     6014     6024     3525   \n",
       "36700     3.191  3.081 -79.752     751   -82.509     6182     6083     3197   \n",
       "\n",
       "       std_noise  pacc_cnt                                           cir_real  \\\n",
       "0             52       101  [-25, -35, 1, 64, -11, -146, 34, -49, -174, -1...   \n",
       "1             36       101  [53, -10, 114, -5, -11, 152, 155, 81, 71, -15,...   \n",
       "2             40       101  [44, -31, -11, -111, -16, 56, -1, -55, -30, 24...   \n",
       "3             40       101  [-113, -27, 37, -32, 4, -30, 23, 12, 45, -38, ...   \n",
       "4             40       101  [99, -25, -34, -18, 92, -7, -14, -65, -12, 112...   \n",
       "...          ...       ...                                                ...   \n",
       "36696         40       101  [52, -104, -95, -69, -34, 9, 66, -43, -193, -9...   \n",
       "36697         44       101  [42, -7, -43, 1, 70, 47, 11, 50, -33, -91, 20,...   \n",
       "36698         44       101  [-74, -43, 38, 62, -3, -90, -49, -25, 39, 28, ...   \n",
       "36699         48       101  [55, 120, 63, -69, -52, -74, -107, 60, 147, -1...   \n",
       "36700         44       101  [238, 206, 82, -4, -57, -82, 49, 104, 73, -23,...   \n",
       "\n",
       "                                                cir_imag condition  \\\n",
       "0      [15, 54, 64, -15, 34, 72, 41, -3, -33, -70, -1...      nlos   \n",
       "1      [-46, 67, -42, -24, 18, -58, -15, 64, 5, -99, ...      nlos   \n",
       "2      [-43, -76, -41, -40, -96, 28, -19, 24, 85, 15,...      nlos   \n",
       "3      [70, 114, -56, -48, 87, 4, 44, 113, 43, -6, 81...      nlos   \n",
       "4      [-134, -1, 66, 23, 67, 97, -38, 11, 19, -37, 7...      nlos   \n",
       "...                                                  ...       ...   \n",
       "36696  [114, 47, 1, -34, -108, -90, 126, 94, 55, 169,...       los   \n",
       "36697  [53, 142, 28, -76, -128, -42, 132, 50, 64, 104...       los   \n",
       "36698  [-103, -214, 34, 79, 123, 34, -101, 14, -106, ...       los   \n",
       "36699  [-80, -58, 32, 128, 55, -5, -2, -23, 49, 131, ...       los   \n",
       "36700  [-14, 43, 56, 71, 124, 30, -61, -72, 26, 135, ...       los   \n",
       "\n",
       "      location_from location_to  msid  \n",
       "0                hw          hw     0  \n",
       "1                hw          hw     0  \n",
       "2                hw          hw     0  \n",
       "3                hw          hw     0  \n",
       "4                hw          hw     0  \n",
       "...             ...         ...   ...  \n",
       "36696           til         til   748  \n",
       "36697           til         til   748  \n",
       "36698           til         til   748  \n",
       "36699           til         til   748  \n",
       "36700           til         til   748  \n",
       "\n",
       "[36701 rows x 16 columns]"
      ]
     },
     "execution_count": 3,
     "metadata": {},
     "output_type": "execute_result"
    }
   ],
   "source": [
    "myfile = path+\"dataset.pickle\"\n",
    "f = open(myfile, 'rb')\n",
    "a = pickle5.load(f)\n",
    "a"
   ]
  },
  {
   "cell_type": "code",
   "execution_count": 4,
   "id": "bcf15c8a",
   "metadata": {},
   "outputs": [],
   "source": [
    "target = a.pop('condition')\n",
    "cir_real = a.pop('cir_real')\n",
    "cir_imag = a.pop('cir_imag')"
   ]
  },
  {
   "cell_type": "code",
   "execution_count": 5,
   "id": "525aaf8c",
   "metadata": {},
   "outputs": [],
   "source": [
    "X = np.empty(shape=[36701, 1015])\n"
   ]
  },
  {
   "cell_type": "code",
   "execution_count": 6,
   "id": "94c8520b",
   "metadata": {},
   "outputs": [
    {
     "data": {
      "text/plain": [
       "array([[ 29.15475947,  64.35060217,  64.00781202, ...,  98.48857802,\n",
       "        106.52699188, 106.25441167],\n",
       "       [ 70.17834424,  67.74215822, 121.49074039, ...,  40.70626487,\n",
       "         69.28924881,  65.2533524 ],\n",
       "       [ 61.52235366,  82.07923002,  42.44997055, ...,  93.94147114,\n",
       "        115.88356225,  60.16643583],\n",
       "       ...,\n",
       "       [126.82665335, 218.27734651,  50.99019514, ..., 118.69709348,\n",
       "        191.36614121, 158.80806025],\n",
       "       [ 97.08243919, 133.28165665,  70.66116331, ..., 124.5351356 ,\n",
       "         81.61494961, 177.5894141 ],\n",
       "       [238.41140912, 210.44001521,  99.2975327 , ...,  76.85050423,\n",
       "         63.0634601 ,  59.07622195]])"
      ]
     },
     "execution_count": 6,
     "metadata": {},
     "output_type": "execute_result"
    }
   ],
   "source": [
    "for i in range(0,36701):\n",
    "    cir_r = np.power(cir_real[i],2)\n",
    "    cir_i = np.power(cir_imag[i],2)\n",
    "    final = np.sqrt(cir_r + cir_i)\n",
    "    final = final.reshape(-1,1015)\n",
    "    X[i] =  final\n",
    "X"
   ]
  },
  {
   "cell_type": "code",
   "execution_count": 63,
   "id": "f45f5773",
   "metadata": {},
   "outputs": [
    {
     "name": "stdout",
     "output_type": "stream",
     "text": [
      "[-3.41267874e+00 -5.33576013e+00 -6.92723304e-01  3.29807490e+00\n",
      " -1.90317321e+00 -2.42826309e+00 -2.00343489e+00  3.97854239e+00\n",
      " -3.40585054e+00  8.11852086e-01 -1.39095822e+00 -3.49698553e-01\n",
      " -1.73097469e-01 -9.56388572e-01  1.77432051e+00 -3.38061890e-01\n",
      "  2.03695737e-01  1.13508546e+00 -1.20454453e+00  2.86279660e-01\n",
      " -1.17193480e+00 -3.36817661e-01 -2.11630351e+00  2.03418429e+00\n",
      "  6.13257961e-01  2.01992290e-01  1.30297552e+00  8.00904208e-01\n",
      " -1.74925566e-01  1.75023325e+00  1.28341167e+00  6.90854563e-02\n",
      " -5.51080721e-01 -5.30804152e-01  7.41194006e-02 -4.59878537e-01\n",
      " -2.48526508e-01 -5.95977288e-01  2.95443906e-01  3.72919907e-01\n",
      "  2.14267814e-01 -4.97397788e-01 -7.13729065e-01  3.79219559e-01\n",
      " -3.59219685e-01  5.36128864e-01  3.72997096e-03 -2.98595800e-01\n",
      "  7.66891795e-02 -8.22930366e-01  3.91366594e-01  3.94553305e-01\n",
      "  5.65863337e-02 -2.55079047e-01  2.88632767e-02  7.00145873e-01\n",
      " -2.09434823e-01  3.38899749e-01  5.21911090e-02  6.50801792e-02\n",
      " -6.07537525e-03  7.00394856e-01  1.03533713e+00 -6.09047073e-02\n",
      " -1.21828587e-01 -1.27678454e-01  1.19031278e-01  2.16846334e-01\n",
      " -1.01597657e-02 -3.93614858e-01  2.76782280e-01  3.96878935e-01\n",
      "  3.77645971e-01  5.07953461e-02  3.49321219e-02  8.45784603e-02\n",
      " -6.48635412e-02 -9.82685170e-02  3.98114602e-01  2.22489647e-01\n",
      "  2.05320049e-01  2.17425330e-01  1.18937621e-01  1.78949731e-01\n",
      " -3.62922193e-02  7.39324085e-01 -2.15601297e-01 -2.03566662e-02\n",
      "  4.40594029e-01 -2.67589188e-01  4.38271852e-01 -9.88731100e-02\n",
      "  3.87823174e-01 -1.23597418e-01 -1.40799194e-02  8.25915126e-02\n",
      "  1.78809015e-01  1.26626702e-01 -1.15098428e-01  4.88700209e-01\n",
      "  3.35926559e-02  2.67150550e-01  2.41287695e-02  1.35333494e-01\n",
      "  6.54439564e-02  2.20146393e-02 -2.13083576e-01 -1.20632306e-01\n",
      "  2.06635988e-01  6.42091154e-01  1.29265282e-01  1.10384483e-01\n",
      "  4.01648306e-01  1.86025292e-01  1.48443266e-01  3.98561089e-01\n",
      "  8.44805219e-02  3.54134207e-01  1.07921733e-01  3.30113900e-01\n",
      " -7.31141187e-02 -1.07919517e-02 -1.12818371e-02  5.71212049e-02\n",
      " -1.27469021e-01  1.87911787e-01  9.48997223e-02  2.98974614e-01\n",
      " -1.60698743e-01  1.01644768e-01]\n"
     ]
    }
   ],
   "source": [
    "feat_crop = np.empty(shape=[36701, 300])\n",
    "norm = np.empty(shape=[36701, 300])\n",
    "normalized_data = np.empty(shape=[36701, 130])\n",
    "for i in range(0,36701):\n",
    "    feat_crop[i] = X[i][650:950] \n",
    "    mean = np.mean(feat_crop[i])\n",
    "    std = np.std(feat_crop[i])\n",
    "    norm[i] = (feat_crop[i]-mean)/std\n",
    "pca = PCA(n_components=130)\n",
    "reduced_data = pca.fit_transform(norm)\n",
    "for i in range(0,36701):\n",
    "    mean = np.mean(reduced_data[i])\n",
    "    std = np.std(reduced_data[i])\n",
    "    normalized_data[i] = (reduced_data[i]-mean)/std\n",
    "    \n",
    "print(normalized_data[2])    \n"
   ]
  },
  {
   "cell_type": "code",
   "execution_count": 64,
   "id": "c980f167",
   "metadata": {},
   "outputs": [],
   "source": [
    "target_bin = [0]*36701\n",
    "for i in range(0,36701):\n",
    "    if target[i] == 'nlos':\n",
    "        target_bin[i] = 1\n",
    "    else:\n",
    "        target_bin[i] = 0"
   ]
  },
  {
   "cell_type": "code",
   "execution_count": 65,
   "id": "aeae588e",
   "metadata": {},
   "outputs": [
    {
     "name": "stdout",
     "output_type": "stream",
     "text": [
      "[ True  True False ...  True False  True]\n"
     ]
    }
   ],
   "source": [
    "np.random.seed(41)\n",
    "rnd = np.random.rand(len(normalized_data)) < 0.6\n",
    "print(rnd)"
   ]
  },
  {
   "cell_type": "code",
   "execution_count": 66,
   "id": "43e26afc",
   "metadata": {},
   "outputs": [
    {
     "data": {
      "text/plain": [
       "(22195, 130)"
      ]
     },
     "execution_count": 66,
     "metadata": {},
     "output_type": "execute_result"
    }
   ],
   "source": [
    "train_x = normalized_data[rnd]\n",
    "tt = np.array(target_bin)\n",
    "train_y = tt[rnd]\n",
    "dev_x = normalized_data[~rnd]\n",
    "dev_y = tt[~rnd]\n",
    "train_x.shape"
   ]
  },
  {
   "cell_type": "code",
   "execution_count": 67,
   "id": "a35b594d",
   "metadata": {},
   "outputs": [],
   "source": [
    "xrn = np.random.rand(len(dev_x)) < 0.5"
   ]
  },
  {
   "cell_type": "code",
   "execution_count": 68,
   "id": "9ce99fd0",
   "metadata": {},
   "outputs": [],
   "source": [
    "val_x = dev_x[xrn]\n",
    "test_x = dev_x[~xrn]\n",
    "val_y = dev_y[xrn]\n",
    "test_y = dev_y[~xrn]"
   ]
  },
  {
   "cell_type": "code",
   "execution_count": 109,
   "id": "6909a4da",
   "metadata": {},
   "outputs": [],
   "source": [
    "import tensorflow as tf\n",
    "\n",
    "# Define the F1 score metric\n",
    "class F1Score(tf.keras.metrics.Metric):\n",
    "    def __init__(self, name='f1_score', **kwargs):\n",
    "        super(F1Score, self).__init__(name=name, **kwargs)\n",
    "        self.precision = tf.keras.metrics.Precision()\n",
    "        self.recall = tf.keras.metrics.Recall()\n",
    "\n",
    "    def update_state(self, y_true, y_pred, sample_weight=None):\n",
    "        self.precision.update_state(y_true, y_pred, sample_weight)\n",
    "        self.recall.update_state(y_true, y_pred, sample_weight)\n",
    "\n",
    "    def result(self):\n",
    "        precision_result = self.precision.result()\n",
    "        recall_result = self.recall.result()\n",
    "        return 2 * ((precision_result * recall_result) / (precision_result + recall_result + tf.keras.backend.epsilon()))\n",
    "\n",
    "    def reset_state(self):\n",
    "        self.precision.reset_state()\n",
    "        self.recall.reset_state()\n",
    "\n",
    "\n",
    "optimizer = tf.keras.optimizers.Adam(learning_rate=0.0005)\n",
    "\n"
   ]
  },
  {
   "cell_type": "code",
   "execution_count": 70,
   "id": "a47ba3a4",
   "metadata": {},
   "outputs": [],
   "source": [
    "def convert_to_int(chars):\n",
    "    low_byte = int(chars[:2], 16)\n",
    "    high_byte = int(chars[2:], 16)\n",
    "    # Perform sign extension if the high byte is negative\n",
    "    if high_byte & 0x80:\n",
    "        high_byte -= 0x100\n",
    "    # Combine the bytes and return the result\n",
    "    return (high_byte << 8) | low_byte"
   ]
  },
  {
   "cell_type": "code",
   "execution_count": 71,
   "id": "0f56d91f",
   "metadata": {},
   "outputs": [],
   "source": [
    "cir_los = np.load('184cirloswithdb.npy')\n",
    "cir_wlos = np.load('184cirwloswithdb.npy')\n",
    "cir_nlos = np.load('232cirloswithdbnlos.npy')\n",
    "cir_nnlos = np.load('nlossecondcir.npy')"
   ]
  },
  {
   "cell_type": "code",
   "execution_count": 72,
   "id": "95961a29",
   "metadata": {},
   "outputs": [
    {
     "name": "stdout",
     "output_type": "stream",
     "text": [
      "(3000,)\n"
     ]
    }
   ],
   "source": [
    "testlos = cir_los[100:850]\n",
    "testnlos = cir_nlos[5:505]\n",
    "testwlos = cir_wlos[100:850]\n",
    "testnnlos = cir_nnlos[305:1305]\n",
    "test_real = np.append(testlos,testwlos,axis=0)\n",
    "test_real = np.append(test_real,testnlos,axis=0)\n",
    "test_real = np.append(test_real,testnnlos,axis=0)\n",
    "print(test_real.shape)"
   ]
  },
  {
   "cell_type": "code",
   "execution_count": 73,
   "id": "c8d8f5e7",
   "metadata": {},
   "outputs": [
    {
     "name": "stdout",
     "output_type": "stream",
     "text": [
      "(3000,)\n"
     ]
    }
   ],
   "source": [
    "label_los = np.array([0]*1500)\n",
    "label_nlos = np.array([1]*1500)\n",
    "label = np.append(label_los,label_nlos,axis=0)\n",
    "print(label.shape)\n"
   ]
  },
  {
   "cell_type": "code",
   "execution_count": 77,
   "id": "097dc5b7",
   "metadata": {},
   "outputs": [],
   "source": [
    "import math\n",
    "import statistics\n",
    "def make_pred(FL):\n",
    "    i=0\n",
    "    sJ = [0]*300\n",
    "    cirR = [0]*300\n",
    "    cirI = [0]*300\n",
    "    for j in range(0,300):     \n",
    "        cirR[j] =  convert_to_int(FL[i:i+4])\n",
    "        cirI[j] =  convert_to_int(FL[i+4:i+8])\n",
    "        sJ[j]=j\n",
    "        i = i+8 \n",
    "    final = [0]*300\n",
    "    for i in range(len(cirI)):\n",
    "        cirI[i] *= cirI[i]\n",
    "        cirR[i] *= cirR[i]\n",
    "        final[i] = math.sqrt(cirR[i]+cirI[i])\n",
    "    \n",
    "    # Calculate the mean of the list\n",
    "    \n",
    "    mean = np.mean(final)\n",
    "    std = np.std(final)\n",
    "    final = (final-mean)/std\n",
    "    \n",
    "    final_pca = pca.transform(np.array(final).reshape(1,-1))\n",
    "    mean = np.mean(final_pca)\n",
    "    \n",
    "\n",
    "    # Calculate the standard deviation of the list\n",
    "    std_dev = np.std(final_pca)\n",
    "\n",
    "    final_pca = (final_pca - mean)/std_dev        \n",
    "    zero = np.array(final_pca)\n",
    "    return zero "
   ]
  },
  {
   "cell_type": "code",
   "execution_count": 78,
   "id": "6a973f30",
   "metadata": {},
   "outputs": [
    {
     "name": "stdout",
     "output_type": "stream",
     "text": [
      "(3000, 130)\n"
     ]
    }
   ],
   "source": [
    "empty = np.empty(( 3000, 130))\n",
    "for i in range(0,3000):\n",
    "    empty[i] = make_pred(test_real[i])\n",
    "print(empty.shape)    "
   ]
  },
  {
   "cell_type": "code",
   "execution_count": 124,
   "id": "8aaca8d1",
   "metadata": {},
   "outputs": [
    {
     "name": "stdout",
     "output_type": "stream",
     "text": [
      "Epoch 1/30\n",
      "2220/2220 [==============================] - 6s 2ms/step - loss: 0.6498 - accuracy: 0.6523 - precision_18: 0.3484 - recall_18: 0.0245 - f1_score: 0.0457 - val_loss: 0.6363 - val_accuracy: 0.6749 - val_precision_18: 0.0000e+00 - val_recall_18: 0.0000e+00 - val_f1_score: 0.0000e+00\n",
      "Epoch 2/30\n",
      "2220/2220 [==============================] - 4s 2ms/step - loss: 0.6128 - accuracy: 0.6593 - precision_18: 0.2727 - recall_18: 3.9698e-04 - f1_score: 7.9281e-04 - val_loss: 0.6261 - val_accuracy: 0.6749 - val_precision_18: 0.0000e+00 - val_recall_18: 0.0000e+00 - val_f1_score: 0.0000e+00\n",
      "Epoch 3/30\n",
      "2220/2220 [==============================] - 4s 2ms/step - loss: 0.5745 - accuracy: 0.6595 - precision_18: 0.0000e+00 - recall_18: 0.0000e+00 - f1_score: 0.0000e+00 - val_loss: 0.5787 - val_accuracy: 0.6749 - val_precision_18: 0.0000e+00 - val_recall_18: 0.0000e+00 - val_f1_score: 0.0000e+00\n",
      "Epoch 4/30\n",
      "2220/2220 [==============================] - 4s 2ms/step - loss: 0.5418 - accuracy: 0.7520 - precision_18: 0.6974 - recall_18: 0.4798 - f1_score: 0.5685 - val_loss: 0.5660 - val_accuracy: 0.7725 - val_precision_18: 0.6213 - val_recall_18: 0.7684 - val_f1_score: 0.6871\n",
      "Epoch 5/30\n",
      "2220/2220 [==============================] - 4s 2ms/step - loss: 0.5188 - accuracy: 0.7709 - precision_18: 0.6771 - recall_18: 0.6256 - f1_score: 0.6503 - val_loss: 0.5646 - val_accuracy: 0.7463 - val_precision_18: 0.5737 - val_recall_18: 0.8553 - val_f1_score: 0.6867\n",
      "Epoch 6/30\n",
      "2220/2220 [==============================] - 4s 2ms/step - loss: 0.4943 - accuracy: 0.7807 - precision_18: 0.6808 - recall_18: 0.6700 - f1_score: 0.6753 - val_loss: 0.4938 - val_accuracy: 0.7755 - val_precision_18: 0.6140 - val_recall_18: 0.8335 - val_f1_score: 0.7071\n",
      "Epoch 7/30\n",
      "2220/2220 [==============================] - 4s 2ms/step - loss: 0.4846 - accuracy: 0.7822 - precision_18: 0.6713 - recall_18: 0.7060 - f1_score: 0.6882 - val_loss: 0.5007 - val_accuracy: 0.7693 - val_precision_18: 0.5980 - val_recall_18: 0.8859 - val_f1_score: 0.7140\n",
      "Epoch 8/30\n",
      "2220/2220 [==============================] - 4s 2ms/step - loss: 0.4720 - accuracy: 0.7911 - precision_18: 0.6804 - recall_18: 0.7289 - f1_score: 0.7038 - val_loss: 0.5231 - val_accuracy: 0.7484 - val_precision_18: 0.5690 - val_recall_18: 0.9319 - val_f1_score: 0.7066\n",
      "Epoch 9/30\n",
      "2220/2220 [==============================] - 4s 2ms/step - loss: 0.4536 - accuracy: 0.8004 - precision_18: 0.6917 - recall_18: 0.7463 - f1_score: 0.7180 - val_loss: 0.4980 - val_accuracy: 0.7625 - val_precision_18: 0.5846 - val_recall_18: 0.9306 - val_f1_score: 0.7181\n",
      "Epoch 10/30\n",
      "2220/2220 [==============================] - 4s 2ms/step - loss: 0.4409 - accuracy: 0.8055 - precision_18: 0.6955 - recall_18: 0.7627 - f1_score: 0.7276 - val_loss: 0.4855 - val_accuracy: 0.7647 - val_precision_18: 0.5853 - val_recall_18: 0.9481 - val_f1_score: 0.7238\n",
      "Epoch 11/30\n",
      "2220/2220 [==============================] - 4s 2ms/step - loss: 0.4298 - accuracy: 0.8134 - precision_18: 0.7015 - recall_18: 0.7866 - f1_score: 0.7416 - val_loss: 0.4188 - val_accuracy: 0.8075 - val_precision_18: 0.6440 - val_recall_18: 0.9119 - val_f1_score: 0.7549\n",
      "Epoch 12/30\n",
      "2220/2220 [==============================] - 4s 2ms/step - loss: 0.4199 - accuracy: 0.8162 - precision_18: 0.7052 - recall_18: 0.7907 - f1_score: 0.7455 - val_loss: 0.4333 - val_accuracy: 0.8007 - val_precision_18: 0.6284 - val_recall_18: 0.9472 - val_f1_score: 0.7555\n",
      "Epoch 13/30\n",
      "2220/2220 [==============================] - 4s 2ms/step - loss: 0.4104 - accuracy: 0.8213 - precision_18: 0.7100 - recall_18: 0.8034 - f1_score: 0.7538 - val_loss: 0.4335 - val_accuracy: 0.7966 - val_precision_18: 0.6229 - val_recall_18: 0.9485 - val_f1_score: 0.7519\n",
      "Epoch 14/30\n",
      "2220/2220 [==============================] - 4s 2ms/step - loss: 0.4011 - accuracy: 0.8244 - precision_18: 0.7120 - recall_18: 0.8132 - f1_score: 0.7592 - val_loss: 0.4336 - val_accuracy: 0.7974 - val_precision_18: 0.6236 - val_recall_18: 0.9502 - val_f1_score: 0.7530\n",
      "Epoch 15/30\n",
      "2220/2220 [==============================] - 4s 2ms/step - loss: 0.3899 - accuracy: 0.8331 - precision_18: 0.7235 - recall_18: 0.8249 - f1_score: 0.7709 - val_loss: 0.3696 - val_accuracy: 0.8363 - val_precision_18: 0.6816 - val_recall_18: 0.9315 - val_f1_score: 0.7872\n",
      "Epoch 16/30\n",
      "2220/2220 [==============================] - 4s 2ms/step - loss: 0.3802 - accuracy: 0.8383 - precision_18: 0.7295 - recall_18: 0.8345 - f1_score: 0.7785 - val_loss: 0.3627 - val_accuracy: 0.8413 - val_precision_18: 0.6877 - val_recall_18: 0.9374 - val_f1_score: 0.7934\n",
      "Epoch 17/30\n",
      "2220/2220 [==============================] - 4s 2ms/step - loss: 0.3785 - accuracy: 0.8368 - precision_18: 0.7271 - recall_18: 0.8334 - f1_score: 0.7766 - val_loss: 0.3526 - val_accuracy: 0.8461 - val_precision_18: 0.6991 - val_recall_18: 0.9246 - val_f1_score: 0.7962\n",
      "Epoch 18/30\n",
      "2220/2220 [==============================] - 4s 2ms/step - loss: 0.3626 - accuracy: 0.8459 - precision_18: 0.7394 - recall_18: 0.8453 - f1_score: 0.7888 - val_loss: 0.3418 - val_accuracy: 0.8483 - val_precision_18: 0.7002 - val_recall_18: 0.9327 - val_f1_score: 0.7999\n",
      "Epoch 19/30\n",
      "2220/2220 [==============================] - 4s 2ms/step - loss: 0.3585 - accuracy: 0.8446 - precision_18: 0.7368 - recall_18: 0.8457 - f1_score: 0.7875 - val_loss: 0.3329 - val_accuracy: 0.8503 - val_precision_18: 0.7021 - val_recall_18: 0.9370 - val_f1_score: 0.8027\n",
      "Epoch 20/30\n",
      "2220/2220 [==============================] - 4s 2ms/step - loss: 0.3544 - accuracy: 0.8506 - precision_18: 0.7426 - recall_18: 0.8592 - f1_score: 0.7966 - val_loss: 0.3287 - val_accuracy: 0.8604 - val_precision_18: 0.7195 - val_recall_18: 0.9349 - val_f1_score: 0.8132\n",
      "Epoch 21/30\n",
      "2220/2220 [==============================] - 4s 2ms/step - loss: 0.3433 - accuracy: 0.8571 - precision_18: 0.7546 - recall_18: 0.8599 - f1_score: 0.8038 - val_loss: 0.3417 - val_accuracy: 0.8519 - val_precision_18: 0.7002 - val_recall_18: 0.9523 - val_f1_score: 0.8070\n",
      "Epoch 22/30\n",
      "2220/2220 [==============================] - 4s 2ms/step - loss: 0.3439 - accuracy: 0.8574 - precision_18: 0.7533 - recall_18: 0.8641 - f1_score: 0.8049 - val_loss: 0.3423 - val_accuracy: 0.8451 - val_precision_18: 0.6866 - val_recall_18: 0.9634 - val_f1_score: 0.8018\n",
      "Epoch 23/30\n",
      "2220/2220 [==============================] - 4s 2ms/step - loss: 0.3333 - accuracy: 0.8623 - precision_18: 0.7601 - recall_18: 0.8703 - f1_score: 0.8115 - val_loss: 0.3272 - val_accuracy: 0.8595 - val_precision_18: 0.7117 - val_recall_18: 0.9544 - val_f1_score: 0.8154\n",
      "Epoch 24/30\n",
      "2220/2220 [==============================] - 5s 2ms/step - loss: 0.3290 - accuracy: 0.8648 - precision_18: 0.7634 - recall_18: 0.8739 - f1_score: 0.8149 - val_loss: 0.3284 - val_accuracy: 0.8519 - val_precision_18: 0.6972 - val_recall_18: 0.9625 - val_f1_score: 0.8087\n",
      "Epoch 25/30\n",
      "2220/2220 [==============================] - 4s 2ms/step - loss: 0.3211 - accuracy: 0.8677 - precision_18: 0.7671 - recall_18: 0.8780 - f1_score: 0.8188 - val_loss: 0.3300 - val_accuracy: 0.8543 - val_precision_18: 0.7009 - val_recall_18: 0.9625 - val_f1_score: 0.8111\n",
      "Epoch 26/30\n",
      "2220/2220 [==============================] - 4s 2ms/step - loss: 0.3225 - accuracy: 0.8658 - precision_18: 0.7664 - recall_18: 0.8716 - f1_score: 0.8156 - val_loss: 0.3235 - val_accuracy: 0.8606 - val_precision_18: 0.7110 - val_recall_18: 0.9625 - val_f1_score: 0.8179\n",
      "Epoch 27/30\n",
      "2220/2220 [==============================] - 4s 2ms/step - loss: 0.3199 - accuracy: 0.8726 - precision_18: 0.7736 - recall_18: 0.8849 - f1_score: 0.8255 - val_loss: 0.2944 - val_accuracy: 0.8731 - val_precision_18: 0.7337 - val_recall_18: 0.9570 - val_f1_score: 0.8306\n",
      "Epoch 28/30\n",
      "2220/2220 [==============================] - 4s 2ms/step - loss: 0.3093 - accuracy: 0.8720 - precision_18: 0.7734 - recall_18: 0.8829 - f1_score: 0.8245 - val_loss: 0.2899 - val_accuracy: 0.8760 - val_precision_18: 0.7397 - val_recall_18: 0.9544 - val_f1_score: 0.8335\n",
      "Epoch 29/30\n",
      "2220/2220 [==============================] - 4s 2ms/step - loss: 0.3090 - accuracy: 0.8743 - precision_18: 0.7771 - recall_18: 0.8843 - f1_score: 0.8273 - val_loss: 0.2999 - val_accuracy: 0.8705 - val_precision_18: 0.7270 - val_recall_18: 0.9634 - val_f1_score: 0.8286\n"
     ]
    },
    {
     "name": "stdout",
     "output_type": "stream",
     "text": [
      "Epoch 30/30\n",
      "2220/2220 [==============================] - 4s 2ms/step - loss: 0.3057 - accuracy: 0.8753 - precision_18: 0.7794 - recall_18: 0.8838 - f1_score: 0.8284 - val_loss: 0.2880 - val_accuracy: 0.8793 - val_precision_18: 0.7446 - val_recall_18: 0.9570 - val_f1_score: 0.8376\n"
     ]
    }
   ],
   "source": [
    "modelpcfinal = tf.keras.Sequential([\n",
    "  layers.Dense(64, activation='relu', input_shape=(130,)),\n",
    "  layers.Dropout(0.5),  \n",
    "  layers.Dense(32, activation='relu'),\n",
    "  layers.Dropout(0.5),  \n",
    "  layers.Dense(32, activation='relu'),\n",
    "  layers.Dropout(0.5),  \n",
    "  layers.Dense(32, activation='relu'),\n",
    "  layers.Dropout(0.5),\n",
    "  layers.Dense(32, activation='relu'),\n",
    "  layers.Dropout(0.5),  \n",
    "  layers.Dense(1, activation='sigmoid')\n",
    "])\n",
    "\n",
    "# Compile your model\n",
    "# Compile your model with the F1 score metric\n",
    "modelpcfinal.compile(optimizer=optimizer,\n",
    "               loss='binary_crossentropy',\n",
    "               metrics=['accuracy', tf.keras.metrics.Precision(), tf.keras.metrics.Recall(), F1Score()])\n",
    "historypcfinal = modelpcfinal.fit(train_x, train_y, epochs=30 ,batch_size=10, validation_data=(test_x, test_y))"
   ]
  },
  {
   "cell_type": "code",
   "execution_count": 125,
   "id": "5ed4fa75",
   "metadata": {},
   "outputs": [
    {
     "data": {
      "image/png": "[encoded data removed]",
      "text/plain": [
       "<Figure size 432x288 with 1 Axes>"
      ]
     },
     "metadata": {
      "needs_background": "light"
     },
     "output_type": "display_data"
    },
    {
     "data": {
      "image/png": "[encoded data removed]",
      "text/plain": [
       "<Figure size 432x288 with 1 Axes>"
      ]
     },
     "metadata": {
      "needs_background": "light"
     },
     "output_type": "display_data"
    }
   ],
   "source": [
    "train_loss = historypcfinal.history['loss']\n",
    "val_loss = historypcfinal.history['val_loss']\n",
    "train_accuracy = historypcfinal.history['accuracy']\n",
    "val_accuracy = historypcfinal.history['val_accuracy']\n",
    "\n",
    "# Get the number of iterations\n",
    "num_iterations = len(train_loss)\n",
    "\n",
    "# Create a list of iterations\n",
    "iterations = range(1, num_iterations + 1)\n",
    "\n",
    "# Plot the training and validation loss\n",
    "plt.plot(iterations, train_loss, 'bo-', label='Training Loss')\n",
    "plt.plot(iterations, val_loss, 'ro-', label='Validation Loss')\n",
    "plt.xlabel('Iterations')\n",
    "plt.ylabel('Loss')\n",
    "plt.title('Training and Validation Loss (per iteration)')\n",
    "plt.legend()\n",
    "plt.show()\n",
    "\n",
    "# Plot the training and validation accuracy\n",
    "plt.plot(iterations, train_accuracy, 'bo-', label='Training Accuracy')\n",
    "plt.plot(iterations, val_accuracy, 'ro-', label='Validation Accuracy')\n",
    "plt.xlabel('Iterations')\n",
    "plt.ylabel('Accuracy')\n",
    "plt.title('Training and Validation Accuracy (per iteration)')\n",
    "plt.legend()\n",
    "plt.show()"
   ]
  },
  {
   "cell_type": "code",
   "execution_count": 126,
   "id": "fabd4289",
   "metadata": {},
   "outputs": [
    {
     "name": "stdout",
     "output_type": "stream",
     "text": [
      "94/94 [==============================] - 0s 1ms/step - loss: 0.3145 - accuracy: 0.8877 - precision_18: 0.9663 - recall_18: 0.8033 - f1_score: 0.8773      \n"
     ]
    }
   ],
   "source": [
    "ff = modelpcfinal.evaluate(empty,label)"
   ]
  },
  {
   "cell_type": "code",
   "execution_count": 127,
   "id": "9f2ca8e8",
   "metadata": {},
   "outputs": [
    {
     "name": "stdout",
     "output_type": "stream",
     "text": [
      "INFO:tensorflow:Assets written to: /home/alexander/Downloads/pcfinal/assets\n"
     ]
    }
   ],
   "source": [
    "modelpcfinal.save(path+\"pcfinal\")\n",
    "np.save('historypcfinal.npy',historypcfinal.history)"
   ]
  },
  {
   "cell_type": "code",
   "execution_count": 128,
   "id": "39a192fa",
   "metadata": {},
   "outputs": [
    {
     "name": "stdout",
     "output_type": "stream",
     "text": [
      "228/228 [==============================] - 0s 1ms/step - loss: 0.2847 - accuracy: 0.8852 - precision_18: 0.7597 - recall_18: 0.9619 - f1_score: 0.8489\n"
     ]
    }
   ],
   "source": [
    "dd = modelpcfinal.evaluate(val_x,val_y)"
   ]
  }
 ],
 "metadata": {
  "kernelspec": {
   "display_name": "Python 3",
   "language": "python",
   "name": "python3"
  },
  "language_info": {
   "codemirror_mode": {
    "name": "ipython",
    "version": 3
   },
   "file_extension": ".py",
   "mimetype": "text/x-python",
   "name": "python",
   "nbconvert_exporter": "python",
   "pygments_lexer": "ipython3",
   "version": "3.6.13"
  }
 },
 "nbformat": 4,
 "nbformat_minor": 5
}
